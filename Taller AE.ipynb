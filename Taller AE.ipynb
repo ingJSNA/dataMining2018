{
 "cells": [
  {
   "cell_type": "markdown",
   "metadata": {},
   "source": [
    "# Taller AE\n",
    "\n",
    "Juan Navarro, jsnavarroa@unal.edu.co\n",
    "\n",
    "\n",
    "[Adult Data Set](http://archive.ics.uci.edu/ml/datasets/Adult), from the UC Irvine Machine Learning Repository\n"
   ]
  },
  {
   "cell_type": "code",
   "execution_count": 36,
   "metadata": {},
   "outputs": [
    {
     "data": {
      "text/html": [
       "<table>\n",
       "<thead><tr><th scope=col>age</th><th scope=col>workclass</th><th scope=col>fnlwgt</th><th scope=col>education</th><th scope=col>education-num</th><th scope=col>marital-status</th><th scope=col>occupation</th><th scope=col>relationship</th><th scope=col>race</th><th scope=col>sex</th><th scope=col>capital-gain</th><th scope=col>capital-loss</th><th scope=col>hours-per-week</th><th scope=col>native-country</th><th scope=col>income</th></tr></thead>\n",
       "<tbody>\n",
       "\t<tr><td>39                                                         </td><td><span style=white-space:pre-wrap> State-gov       </span>  </td><td> 77516                                                     </td><td> Bachelors                                                 </td><td>13                                                         </td><td><span style=white-space:pre-wrap> Never-married     </span></td><td><span style=white-space:pre-wrap> Adm-clerical     </span> </td><td> Not-in-family                                             </td><td> White                                                     </td><td><span style=white-space:pre-wrap> Male  </span>            </td><td>2174                                                       </td><td>0                                                          </td><td>40                                                         </td><td> United-States                                             </td><td> &lt;=50K                                                  </td></tr>\n",
       "\t<tr><td>50                                                        </td><td> Self-emp-not-inc                                         </td><td> 83311                                                    </td><td> Bachelors                                                </td><td>13                                                        </td><td> Married-civ-spouse                                       </td><td><span style=white-space:pre-wrap> Exec-managerial  </span></td><td><span style=white-space:pre-wrap> Husband      </span>    </td><td> White                                                    </td><td><span style=white-space:pre-wrap> Male  </span>           </td><td><span style=white-space:pre-wrap>   0</span>              </td><td>0                                                         </td><td>13                                                        </td><td> United-States                                            </td><td> &lt;=50K                                                 </td></tr>\n",
       "\t<tr><td>38                                                         </td><td><span style=white-space:pre-wrap> Private         </span>  </td><td>215646                                                     </td><td><span style=white-space:pre-wrap> HS-grad  </span>         </td><td> 9                                                         </td><td><span style=white-space:pre-wrap> Divorced          </span></td><td> Handlers-cleaners                                         </td><td> Not-in-family                                             </td><td> White                                                     </td><td><span style=white-space:pre-wrap> Male  </span>            </td><td><span style=white-space:pre-wrap>   0</span>               </td><td>0                                                          </td><td>40                                                         </td><td> United-States                                             </td><td> &lt;=50K                                                  </td></tr>\n",
       "\t<tr><td>53                                                       </td><td><span style=white-space:pre-wrap> Private         </span></td><td>234721                                                   </td><td><span style=white-space:pre-wrap> 11th     </span>       </td><td> 7                                                       </td><td> Married-civ-spouse                                      </td><td> Handlers-cleaners                                       </td><td><span style=white-space:pre-wrap> Husband      </span>   </td><td> Black                                                   </td><td><span style=white-space:pre-wrap> Male  </span>          </td><td><span style=white-space:pre-wrap>   0</span>             </td><td>0                                                        </td><td>40                                                       </td><td> United-States                                           </td><td> &lt;=50K                                                </td></tr>\n",
       "\t<tr><td>28                                                        </td><td><span style=white-space:pre-wrap> Private         </span> </td><td>338409                                                    </td><td> Bachelors                                                </td><td>13                                                        </td><td> Married-civ-spouse                                       </td><td><span style=white-space:pre-wrap> Prof-specialty   </span></td><td><span style=white-space:pre-wrap> Wife         </span>    </td><td> Black                                                    </td><td> Female                                                   </td><td><span style=white-space:pre-wrap>   0</span>              </td><td>0                                                         </td><td>40                                                        </td><td><span style=white-space:pre-wrap> Cuba         </span>    </td><td> &lt;=50K                                                 </td></tr>\n",
       "\t<tr><td>37                                                        </td><td><span style=white-space:pre-wrap> Private         </span> </td><td>284582                                                    </td><td><span style=white-space:pre-wrap> Masters  </span>        </td><td>14                                                        </td><td> Married-civ-spouse                                       </td><td><span style=white-space:pre-wrap> Exec-managerial  </span></td><td><span style=white-space:pre-wrap> Wife         </span>    </td><td> White                                                    </td><td> Female                                                   </td><td><span style=white-space:pre-wrap>   0</span>              </td><td>0                                                         </td><td>40                                                        </td><td> United-States                                            </td><td> &lt;=50K                                                 </td></tr>\n",
       "</tbody>\n",
       "</table>\n"
      ],
      "text/latex": [
       "\\begin{tabular}{r|lllllllllllllll}\n",
       " age & workclass & fnlwgt & education & education-num & marital-status & occupation & relationship & race & sex & capital-gain & capital-loss & hours-per-week & native-country & income\\\\\n",
       "\\hline\n",
       "\t 39                  &  State-gov          &  77516              &  Bachelors          & 13                  &  Never-married      &  Adm-clerical       &  Not-in-family      &  White              &  Male               & 2174                & 0                   & 40                  &  United-States      &  <=50K             \\\\\n",
       "\t 50                  &  Self-emp-not-inc   &  83311              &  Bachelors          & 13                  &  Married-civ-spouse &  Exec-managerial    &  Husband            &  White              &  Male               &    0                & 0                   & 13                  &  United-States      &  <=50K             \\\\\n",
       "\t 38                  &  Private            & 215646              &  HS-grad            &  9                  &  Divorced           &  Handlers-cleaners  &  Not-in-family      &  White              &  Male               &    0                & 0                   & 40                  &  United-States      &  <=50K             \\\\\n",
       "\t 53                  &  Private            & 234721              &  11th               &  7                  &  Married-civ-spouse &  Handlers-cleaners  &  Husband            &  Black              &  Male               &    0                & 0                   & 40                  &  United-States      &  <=50K             \\\\\n",
       "\t 28                  &  Private            & 338409              &  Bachelors          & 13                  &  Married-civ-spouse &  Prof-specialty     &  Wife               &  Black              &  Female             &    0                & 0                   & 40                  &  Cuba               &  <=50K             \\\\\n",
       "\t 37                  &  Private            & 284582              &  Masters            & 14                  &  Married-civ-spouse &  Exec-managerial    &  Wife               &  White              &  Female             &    0                & 0                   & 40                  &  United-States      &  <=50K             \\\\\n",
       "\\end{tabular}\n"
      ],
      "text/markdown": [
       "\n",
       "age | workclass | fnlwgt | education | education-num | marital-status | occupation | relationship | race | sex | capital-gain | capital-loss | hours-per-week | native-country | income | \n",
       "|---|---|---|---|---|---|\n",
       "| 39                  |  State-gov          |  77516              |  Bachelors          | 13                  |  Never-married      |  Adm-clerical       |  Not-in-family      |  White              |  Male               | 2174                | 0                   | 40                  |  United-States      |  <=50K              | \n",
       "| 50                  |  Self-emp-not-inc   |  83311              |  Bachelors          | 13                  |  Married-civ-spouse |  Exec-managerial    |  Husband            |  White              |  Male               |    0                | 0                   | 13                  |  United-States      |  <=50K              | \n",
       "| 38                  |  Private            | 215646              |  HS-grad            |  9                  |  Divorced           |  Handlers-cleaners  |  Not-in-family      |  White              |  Male               |    0                | 0                   | 40                  |  United-States      |  <=50K              | \n",
       "| 53                  |  Private            | 234721              |  11th               |  7                  |  Married-civ-spouse |  Handlers-cleaners  |  Husband            |  Black              |  Male               |    0                | 0                   | 40                  |  United-States      |  <=50K              | \n",
       "| 28                  |  Private            | 338409              |  Bachelors          | 13                  |  Married-civ-spouse |  Prof-specialty     |  Wife               |  Black              |  Female             |    0                | 0                   | 40                  |  Cuba               |  <=50K              | \n",
       "| 37                  |  Private            | 284582              |  Masters            | 14                  |  Married-civ-spouse |  Exec-managerial    |  Wife               |  White              |  Female             |    0                | 0                   | 40                  |  United-States      |  <=50K              | \n",
       "\n",
       "\n"
      ],
      "text/plain": [
       "  age workclass         fnlwgt education  education-num marital-status     \n",
       "1 39   State-gov         77516  Bachelors 13             Never-married     \n",
       "2 50   Self-emp-not-inc  83311  Bachelors 13             Married-civ-spouse\n",
       "3 38   Private          215646  HS-grad    9             Divorced          \n",
       "4 53   Private          234721  11th       7             Married-civ-spouse\n",
       "5 28   Private          338409  Bachelors 13             Married-civ-spouse\n",
       "6 37   Private          284582  Masters   14             Married-civ-spouse\n",
       "  occupation         relationship   race   sex     capital-gain capital-loss\n",
       "1  Adm-clerical       Not-in-family  White  Male   2174         0           \n",
       "2  Exec-managerial    Husband        White  Male      0         0           \n",
       "3  Handlers-cleaners  Not-in-family  White  Male      0         0           \n",
       "4  Handlers-cleaners  Husband        Black  Male      0         0           \n",
       "5  Prof-specialty     Wife           Black  Female    0         0           \n",
       "6  Exec-managerial    Wife           White  Female    0         0           \n",
       "  hours-per-week native-country income\n",
       "1 40              United-States  <=50K\n",
       "2 13              United-States  <=50K\n",
       "3 40              United-States  <=50K\n",
       "4 40              United-States  <=50K\n",
       "5 40              Cuba           <=50K\n",
       "6 40              United-States  <=50K"
      ]
     },
     "metadata": {},
     "output_type": "display_data"
    }
   ],
   "source": [
    "adult <- read.csv(\"./data/UCI/adult.data\", header=FALSE)\n",
    "names(adult) <- c(\"age\", \"workclass\", \"fnlwgt\", \"education\", \"education-num\", \"marital-status\", \n",
    "                  \"occupation\", \"relationship\", \"race\", \"sex\", \"capital-gain\", \"capital-loss\", \n",
    "                  \"hours-per-week\", \"native-country\", \"income\")\n",
    "head(adult)"
   ]
  },
  {
   "cell_type": "markdown",
   "metadata": {},
   "source": [
    "# 1.\n",
    "\n",
    "## 1.a.\n",
    "\n",
    "| Variable | Tipo    |\n",
    "|:---:|:---:|\n",
    "| age | Radio |\n",
    "| workclass | Nominal |\n",
    "| fnlwgt | Radio |\n",
    "| education | Nominal |\n",
    "| education-num | Ordinal |\n",
    "| marital-status | Nominal |\n",
    "| occupation | Nominal |\n",
    "| relationship | Nominal |\n",
    "| race | Nominal |\n",
    "| sex | Nominal |\n",
    "| capital-gain | Radio |\n",
    "| capital-loss | Radio |\n",
    "| hours-per-week | Radio |\n",
    "| native-country | Nominal |\n",
    "| income | Ordinal |"
   ]
  },
  {
   "cell_type": "code",
   "execution_count": 48,
   "metadata": {},
   "outputs": [
    {
     "data": {
      "text/html": [
       "<table>\n",
       "<thead><tr><th></th><th scope=col>age</th><th scope=col>fnlwgt</th><th scope=col>education-num</th><th scope=col>capital-gain</th><th scope=col>capital-loss</th><th scope=col>hours-per-week</th></tr></thead>\n",
       "<tbody>\n",
       "\t<tr><th scope=row>Mean</th><td>   38.58165</td><td> 189778.4  </td><td>   10.08068</td><td> 1077.649  </td><td>   87.30383</td><td>   40.43746</td></tr>\n",
       "\t<tr><th scope=row>Median</th><td>   37.00000</td><td> 178356.0  </td><td>   10.00000</td><td>    0.000  </td><td>    0.00000</td><td>   40.00000</td></tr>\n",
       "\t<tr><th scope=row>SD</th><td>   13.64043</td><td> 105550.0  </td><td>    2.57272</td><td> 7385.292  </td><td>  402.96022</td><td>   12.34743</td></tr>\n",
       "\t<tr><th scope=row>Min</th><td>   17.00000</td><td>  12285.0  </td><td>    1.00000</td><td>    0.000  </td><td>    0.00000</td><td>    1.00000</td></tr>\n",
       "\t<tr><th scope=row>Max</th><td>   90.00000</td><td>1484705.0  </td><td>   16.00000</td><td>99999.000  </td><td> 4356.00000</td><td>   99.00000</td></tr>\n",
       "\t<tr><th scope=row>Count</th><td>32561.00000</td><td>  32561.0  </td><td>32561.00000</td><td>32561.000  </td><td>32561.00000</td><td>32561.00000</td></tr>\n",
       "</tbody>\n",
       "</table>\n"
      ],
      "text/latex": [
       "\\begin{tabular}{r|llllll}\n",
       "  & age & fnlwgt & education-num & capital-gain & capital-loss & hours-per-week\\\\\n",
       "\\hline\n",
       "\tMean &    38.58165 &  189778.4   &    10.08068 &  1077.649   &    87.30383 &    40.43746\\\\\n",
       "\tMedian &    37.00000 &  178356.0   &    10.00000 &     0.000   &     0.00000 &    40.00000\\\\\n",
       "\tSD &    13.64043 &  105550.0   &     2.57272 &  7385.292   &   402.96022 &    12.34743\\\\\n",
       "\tMin &    17.00000 &   12285.0   &     1.00000 &     0.000   &     0.00000 &     1.00000\\\\\n",
       "\tMax &    90.00000 & 1484705.0   &    16.00000 & 99999.000   &  4356.00000 &    99.00000\\\\\n",
       "\tCount & 32561.00000 &   32561.0   & 32561.00000 & 32561.000   & 32561.00000 & 32561.00000\\\\\n",
       "\\end{tabular}\n"
      ],
      "text/markdown": [
       "\n",
       "| <!--/--> | age | fnlwgt | education-num | capital-gain | capital-loss | hours-per-week | \n",
       "|---|---|---|---|---|---|\n",
       "| Mean |    38.58165 |  189778.4   |    10.08068 |  1077.649   |    87.30383 |    40.43746 | \n",
       "| Median |    37.00000 |  178356.0   |    10.00000 |     0.000   |     0.00000 |    40.00000 | \n",
       "| SD |    13.64043 |  105550.0   |     2.57272 |  7385.292   |   402.96022 |    12.34743 | \n",
       "| Min |    17.00000 |   12285.0   |     1.00000 |     0.000   |     0.00000 |     1.00000 | \n",
       "| Max |    90.00000 | 1484705.0   |    16.00000 | 99999.000   |  4356.00000 |    99.00000 | \n",
       "| Count | 32561.00000 |   32561.0   | 32561.00000 | 32561.000   | 32561.00000 | 32561.00000 | \n",
       "\n",
       "\n"
      ],
      "text/plain": [
       "       age         fnlwgt    education-num capital-gain capital-loss\n",
       "Mean      38.58165  189778.4    10.08068    1077.649       87.30383 \n",
       "Median    37.00000  178356.0    10.00000       0.000        0.00000 \n",
       "SD        13.64043  105550.0     2.57272    7385.292      402.96022 \n",
       "Min       17.00000   12285.0     1.00000       0.000        0.00000 \n",
       "Max       90.00000 1484705.0    16.00000   99999.000     4356.00000 \n",
       "Count  32561.00000   32561.0 32561.00000   32561.000    32561.00000 \n",
       "       hours-per-week\n",
       "Mean      40.43746   \n",
       "Median    40.00000   \n",
       "SD        12.34743   \n",
       "Min        1.00000   \n",
       "Max       99.00000   \n",
       "Count  32561.00000   "
      ]
     },
     "metadata": {},
     "output_type": "display_data"
    },
    {
     "data": {
      "text/html": [
       "<table>\n",
       "<thead><tr><th></th><th scope=col>workclass</th><th scope=col>education</th><th scope=col>marital-status</th><th scope=col>occupation</th><th scope=col>relationship</th><th scope=col>race</th><th scope=col>sex</th><th scope=col>native-country</th><th scope=col>income</th></tr></thead>\n",
       "<tbody>\n",
       "\t<tr><th scope=row>Mode</th><td> Private           </td><td> HS-grad           </td><td> Married-civ-spouse</td><td> Prof-specialty    </td><td> Husband           </td><td> White             </td><td> Male              </td><td> United-States     </td><td> &lt;=50K          </td></tr>\n",
       "\t<tr><th scope=row>occurrences</th><td>22696              </td><td>10501              </td><td>14976              </td><td>4140               </td><td>13193              </td><td>27816              </td><td>21790              </td><td>29170              </td><td>24720              </td></tr>\n",
       "</tbody>\n",
       "</table>\n"
      ],
      "text/latex": [
       "\\begin{tabular}{r|lllllllll}\n",
       "  & workclass & education & marital-status & occupation & relationship & race & sex & native-country & income\\\\\n",
       "\\hline\n",
       "\tMode &  Private            &  HS-grad            &  Married-civ-spouse &  Prof-specialty     &  Husband            &  White              &  Male               &  United-States      &  <=50K             \\\\\n",
       "\toccurrences & 22696               & 10501               & 14976               & 4140                & 13193               & 27816               & 21790               & 29170               & 24720              \\\\\n",
       "\\end{tabular}\n"
      ],
      "text/markdown": [
       "\n",
       "| <!--/--> | workclass | education | marital-status | occupation | relationship | race | sex | native-country | income | \n",
       "|---|---|\n",
       "| Mode |  Private            |  HS-grad            |  Married-civ-spouse |  Prof-specialty     |  Husband            |  White              |  Male               |  United-States      |  <=50K              | \n",
       "| occurrences | 22696               | 10501               | 14976               | 4140                | 13193               | 27816               | 21790               | 29170               | 24720               | \n",
       "\n",
       "\n"
      ],
      "text/plain": [
       "            workclass education marital-status      occupation     \n",
       "Mode         Private   HS-grad   Married-civ-spouse  Prof-specialty\n",
       "occurrences 22696     10501     14976               4140           \n",
       "            relationship race   sex   native-country income\n",
       "Mode         Husband      White  Male  United-States  <=50K\n",
       "occurrences 13193        27816  21790 29170          24720 "
      ]
     },
     "metadata": {},
     "output_type": "display_data"
    },
    {
     "name": "stdout",
     "output_type": "stream",
     "text": [
      "[1] \"***  Correlation ***\"\n"
     ]
    },
    {
     "data": {
      "text/html": [
       "<table>\n",
       "<thead><tr><th></th><th scope=col>age</th><th scope=col>fnlwgt</th><th scope=col>education-num</th><th scope=col>capital-gain</th><th scope=col>capital-loss</th><th scope=col>hours-per-week</th></tr></thead>\n",
       "<tbody>\n",
       "\t<tr><th scope=row>age</th><td> 1.00000000  </td><td>-0.0766458679</td><td> 0.03652719  </td><td> 0.0776744982</td><td> 0.05777454  </td><td> 0.06875571  </td></tr>\n",
       "\t<tr><th scope=row>fnlwgt</th><td>-0.07664587  </td><td> 1.0000000000</td><td>-0.04319463  </td><td> 0.0004318858</td><td>-0.01025171  </td><td>-0.01876849  </td></tr>\n",
       "\t<tr><th scope=row>education-num</th><td> 0.03652719  </td><td>-0.0431946327</td><td> 1.00000000  </td><td> 0.1226301147</td><td> 0.07992296  </td><td> 0.14812273  </td></tr>\n",
       "\t<tr><th scope=row>capital-gain</th><td> 0.07767450  </td><td> 0.0004318858</td><td> 0.12263011  </td><td> 1.0000000000</td><td>-0.03161506  </td><td> 0.07840862  </td></tr>\n",
       "\t<tr><th scope=row>capital-loss</th><td> 0.05777454  </td><td>-0.0102517117</td><td> 0.07992296  </td><td>-0.0316150630</td><td> 1.00000000  </td><td> 0.05425636  </td></tr>\n",
       "\t<tr><th scope=row>hours-per-week</th><td> 0.06875571  </td><td>-0.0187684906</td><td> 0.14812273  </td><td> 0.0784086154</td><td> 0.05425636  </td><td> 1.00000000  </td></tr>\n",
       "</tbody>\n",
       "</table>\n"
      ],
      "text/latex": [
       "\\begin{tabular}{r|llllll}\n",
       "  & age & fnlwgt & education-num & capital-gain & capital-loss & hours-per-week\\\\\n",
       "\\hline\n",
       "\tage &  1.00000000   & -0.0766458679 &  0.03652719   &  0.0776744982 &  0.05777454   &  0.06875571  \\\\\n",
       "\tfnlwgt & -0.07664587   &  1.0000000000 & -0.04319463   &  0.0004318858 & -0.01025171   & -0.01876849  \\\\\n",
       "\teducation-num &  0.03652719   & -0.0431946327 &  1.00000000   &  0.1226301147 &  0.07992296   &  0.14812273  \\\\\n",
       "\tcapital-gain &  0.07767450   &  0.0004318858 &  0.12263011   &  1.0000000000 & -0.03161506   &  0.07840862  \\\\\n",
       "\tcapital-loss &  0.05777454   & -0.0102517117 &  0.07992296   & -0.0316150630 &  1.00000000   &  0.05425636  \\\\\n",
       "\thours-per-week &  0.06875571   & -0.0187684906 &  0.14812273   &  0.0784086154 &  0.05425636   &  1.00000000  \\\\\n",
       "\\end{tabular}\n"
      ],
      "text/markdown": [
       "\n",
       "| <!--/--> | age | fnlwgt | education-num | capital-gain | capital-loss | hours-per-week | \n",
       "|---|---|---|---|---|---|\n",
       "| age |  1.00000000   | -0.0766458679 |  0.03652719   |  0.0776744982 |  0.05777454   |  0.06875571   | \n",
       "| fnlwgt | -0.07664587   |  1.0000000000 | -0.04319463   |  0.0004318858 | -0.01025171   | -0.01876849   | \n",
       "| education-num |  0.03652719   | -0.0431946327 |  1.00000000   |  0.1226301147 |  0.07992296   |  0.14812273   | \n",
       "| capital-gain |  0.07767450   |  0.0004318858 |  0.12263011   |  1.0000000000 | -0.03161506   |  0.07840862   | \n",
       "| capital-loss |  0.05777454   | -0.0102517117 |  0.07992296   | -0.0316150630 |  1.00000000   |  0.05425636   | \n",
       "| hours-per-week |  0.06875571   | -0.0187684906 |  0.14812273   |  0.0784086154 |  0.05425636   |  1.00000000   | \n",
       "\n",
       "\n"
      ],
      "text/plain": [
       "               age         fnlwgt        education-num capital-gain \n",
       "age             1.00000000 -0.0766458679  0.03652719    0.0776744982\n",
       "fnlwgt         -0.07664587  1.0000000000 -0.04319463    0.0004318858\n",
       "education-num   0.03652719 -0.0431946327  1.00000000    0.1226301147\n",
       "capital-gain    0.07767450  0.0004318858  0.12263011    1.0000000000\n",
       "capital-loss    0.05777454 -0.0102517117  0.07992296   -0.0316150630\n",
       "hours-per-week  0.06875571 -0.0187684906  0.14812273    0.0784086154\n",
       "               capital-loss hours-per-week\n",
       "age             0.05777454   0.06875571   \n",
       "fnlwgt         -0.01025171  -0.01876849   \n",
       "education-num   0.07992296   0.14812273   \n",
       "capital-gain   -0.03161506   0.07840862   \n",
       "capital-loss    1.00000000   0.05425636   \n",
       "hours-per-week  0.05425636   1.00000000   "
      ]
     },
     "metadata": {},
     "output_type": "display_data"
    }
   ],
   "source": [
    "Mode <- function(x) {\n",
    "  ux <- unique(x)\n",
    "  ux[which.max(tabulate(match(x, ux)))]\n",
    "}\n",
    "\n",
    "# Defining the function, remove NA values by default\n",
    "my.summary <- function(x, na.rm=TRUE){\n",
    "  result <- c(Mean = mean(x, na.rm=na.rm),\n",
    "              Median = median(x, na.rm=na.rm),\n",
    "              #Var = var(x, na.rm=na.rm),\n",
    "              SD = sd(x, na.rm=na.rm),\n",
    "              Min = min(x, na.rm=na.rm),\n",
    "              Max = max(x, na.rm=na.rm),\n",
    "              Count = length(x))\n",
    "}\n",
    "\n",
    "# Defining the function, remove NA values by default\n",
    "ordinal.summary <- function(x, na.rm=TRUE){\n",
    "  result <- c(Mode = as.character(Mode(x)), \n",
    "              occurrences = length(which(x == Mode(x))))\n",
    "}\n",
    "\n",
    "# Identifying numeric columns\n",
    "ind <- sapply(adult, is.numeric)\n",
    "# Applying the summary function to numeric columns only\n",
    "sapply(adult[, ind], my.summary)\n",
    "\n",
    "sapply(adult[, !ind], ordinal.summary)\n",
    "\n",
    "# Covariance\n",
    "print(\"***  Correlation ***\")\n",
    "cor(adult[, ind])"
   ]
  },
  {
   "cell_type": "markdown",
   "metadata": {},
   "source": [
    "# 1.\n"
   ]
  },
  {
   "cell_type": "code",
   "execution_count": 82,
   "metadata": {},
   "outputs": [
    {
     "data": {
      "image/png": "[encoded data removed]",
      "text/plain": [
       "Plot with title “Age (40 bins)”"
      ]
     },
     "metadata": {},
     "output_type": "display_data"
    }
   ],
   "source": [
    "# Combine multiple plots\n",
    "par(mfrow=c(2,2))\n",
    "\n",
    "# Histograms and density plots\n",
    "hist(adult$age, breaks=10, main=\"Age (10 bins)\")\n",
    "plot(density(adult$age), main=\"Age\")\n",
    "hist(adult$age, breaks=20, main=\"Age (20 bins)\")\n",
    "hist(adult$age, breaks=40, main=\"Age (40 bins)\")"
   ]
  },
  {
   "cell_type": "code",
   "execution_count": 65,
   "metadata": {},
   "outputs": [
    {
     "data": {
      "image/png": "[encoded data removed]",
      "text/plain": [
       "Plot with title “Capital-gain”"
      ]
     },
     "metadata": {},
     "output_type": "display_data"
    },
    {
     "data": {
      "image/png": "[encoded data removed]",
      "text/plain": [
       "Plot with title “Hours-per-week”"
      ]
     },
     "metadata": {},
     "output_type": "display_data"
    }
   ],
   "source": [
    "# Combine multiple plots\n",
    "par(mfrow=c(2,2))\n",
    "\n",
    "# Box plots\n",
    "boxplot(adult$age, main=\"Age\")\n",
    "boxplot(adult$fnlwgt, main=\"fnlwgt\")\n",
    "boxplot(adult$'education-num', main=\"Education-num\")\n",
    "boxplot(adult$'capital-gain', main=\"Capital-gain\")\n",
    "boxplot(adult$'capital-loss', main=\"Capital-loss\")\n",
    "boxplot(adult$'hours-per-week', main=\"Hours-per-week\")"
   ]
  },
  {
   "cell_type": "code",
   "execution_count": null,
   "metadata": {},
   "outputs": [],
   "source": []
  }
 ],
 "metadata": {
  "kernelspec": {
   "display_name": "R",
   "language": "R",
   "name": "ir"
  },
  "language_info": {
   "codemirror_mode": "r",
   "file_extension": ".r",
   "mimetype": "text/x-r-source",
   "name": "R",
   "pygments_lexer": "r",
   "version": "3.4.2"
  }
 },
 "nbformat": 4,
 "nbformat_minor": 2
}
