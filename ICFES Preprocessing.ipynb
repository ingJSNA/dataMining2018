{
 "cells": [
  {
   "cell_type": "code",
   "execution_count": 1,
   "metadata": {},
   "outputs": [],
   "source": [
    "import pandas as pd"
   ]
  },
  {
   "cell_type": "code",
   "execution_count": 62,
   "metadata": {},
   "outputs": [
    {
     "data": {
      "text/plain": [
       "(559253, 79)"
      ]
     },
     "execution_count": 62,
     "metadata": {},
     "output_type": "execute_result"
    }
   ],
   "source": [
    "# Read file\n",
    "icfes = pd.read_csv(\"./data/ICFES/icfes.csv\", low_memory=False)\n",
    "\n",
    "print(icfes.shape)\n",
    "icfes.describe()"
   ]
  },
  {
   "cell_type": "code",
   "execution_count": 27,
   "metadata": {},
   "outputs": [
    {
     "data": {
      "text/plain": [
       "Secundaria (Bachillerato) completa      130648\n",
       "Primaria incompleta                      87414\n",
       "Secundaria (Bachillerato) incompleta     81839\n",
       "Primaria completa                        60438\n",
       "Educación profesional completa           56744\n",
       "Técnica o tecnológica completa           51077\n",
       "Técnica o tecnológica incompleta         16280\n",
       "Educación profesional incompleta         13424\n",
       "Ninguno                                  13404\n",
       "Postgrado                                13080\n",
       "No sabe                                   9185\n",
       "No Aplica                                 1033\n",
       "Name: FAMI_EDUCACIONMADRE, dtype: int64"
      ]
     },
     "execution_count": 27,
     "metadata": {},
     "output_type": "execute_result"
    }
   ],
   "source": [
    "icfes['FAMI_EDUCACIONMADRE'].value_counts()"
   ]
  },
  {
   "cell_type": "code",
   "execution_count": 28,
   "metadata": {},
   "outputs": [
    {
     "data": {
      "text/plain": [
       "count                                 534566\n",
       "unique                                    12\n",
       "top       Secundaria (Bachillerato) completa\n",
       "freq                                  130648\n",
       "Name: FAMI_EDUCACIONMADRE, dtype: object"
      ]
     },
     "execution_count": 28,
     "metadata": {},
     "output_type": "execute_result"
    }
   ],
   "source": [
    "icfes['FAMI_EDUCACIONMADRE'].describe(include='all')"
   ]
  },
  {
   "cell_type": "code",
   "execution_count": 25,
   "metadata": {},
   "outputs": [],
   "source": [
    "# Use the same value for equivalent education levels\n",
    "edu_dict = {\"No Sabe\":\"No sabe\", \n",
    "            \"Primaria Completa\": 'Primaria completa', \n",
    "            \"Primaria Incompleta\": 'Primaria incompleta',\n",
    "            \"Secundaria(Bachillerato) Incompleta\": 'Secundaria (Bachillerato) incompleta', \n",
    "            \"Secundaria(Bachillerato) Completa\": 'Secundaria (Bachillerato) completa', \n",
    "            \"Educación Técnica o Tecnológica Completa\": 'Técnica o tecnológica completa', \n",
    "            \"Educación Técnica o Tecnológica Incompleta\": 'Técnica o tecnológica incompleta', \n",
    "            \"Educación Profesional Incompleta\": 'Educación profesional incompleta', \n",
    "            \"Educación Profesional Completa\": 'Educación profesional completa'}\n",
    "\n",
    "\n",
    "icfes['FAMI_EDUCACIONPADRE'] = icfes['FAMI_EDUCACIONPADRE'].replace(to_replace=edu_dict)\n",
    "icfes['FAMI_EDUCACIONMADRE'] = icfes['FAMI_EDUCACIONMADRE'].replace(to_replace=edu_dict)"
   ]
  },
  {
   "cell_type": "code",
   "execution_count": 64,
   "metadata": {},
   "outputs": [
    {
     "data": {
      "text/html": [
       "<div>\n",
       "<style scoped>\n",
       "    .dataframe tbody tr th:only-of-type {\n",
       "        vertical-align: middle;\n",
       "    }\n",
       "\n",
       "    .dataframe tbody tr th {\n",
       "        vertical-align: top;\n",
       "    }\n",
       "\n",
       "    .dataframe thead th {\n",
       "        text-align: right;\n",
       "    }\n",
       "</style>\n",
       "<table border=\"1\" class=\"dataframe\">\n",
       "  <thead>\n",
       "    <tr style=\"text-align: right;\">\n",
       "      <th></th>\n",
       "      <th>FAMI_ESTRATOVIVIENDA</th>\n",
       "      <th>FAMI_TIENECOMPUTADOR</th>\n",
       "      <th>FAMI_TIENELAVADORA</th>\n",
       "      <th>FAMI_TIENEHORNOMICROOGAS</th>\n",
       "      <th>FAMI_TIENEAUTOMOVIL</th>\n",
       "    </tr>\n",
       "  </thead>\n",
       "  <tbody>\n",
       "  </tbody>\n",
       "</table>\n",
       "</div>"
      ],
      "text/plain": [
       "Empty DataFrame\n",
       "Columns: [FAMI_ESTRATOVIVIENDA, FAMI_TIENECOMPUTADOR, FAMI_TIENELAVADORA, FAMI_TIENEHORNOMICROOGAS, FAMI_TIENEAUTOMOVIL]\n",
       "Index: []"
      ]
     },
     "execution_count": 64,
     "metadata": {},
     "output_type": "execute_result"
    }
   ],
   "source": [
    "# Drop records without socioeconomic data\n",
    "icfes = icfes.dropna(axis=0, how='all', subset=['FAMI_ESTRATOVIVIENDA','FAMI_TIENECOMPUTADOR',\n",
    "                                                 'FAMI_TIENELAVADORA','FAMI_TIENEHORNOMICROOGAS','FAMI_TIENEAUTOMOVIL'])\n",
    "\n",
    "# Verify the dropping\n",
    "icfes3 = icfes.loc[icfes['FAMI_ESTRATOVIVIENDA'].isnull() \n",
    "           & icfes['FAMI_TIENECOMPUTADOR'].isnull() \n",
    "           & icfes['FAMI_TIENELAVADORA'].isnull() \n",
    "           & icfes['FAMI_TIENEHORNOMICROOGAS'].isnull() \n",
    "           & icfes['FAMI_TIENEAUTOMOVIL'].isnull()]\n",
    "\n",
    "icfes3[['FAMI_ESTRATOVIVIENDA','FAMI_TIENECOMPUTADOR',\n",
    "        'FAMI_TIENELAVADORA','FAMI_TIENEHORNOMICROOGAS','FAMI_TIENEAUTOMOVIL']]"
   ]
  },
  {
   "cell_type": "code",
   "execution_count": 65,
   "metadata": {},
   "outputs": [],
   "source": [
    "# Missing values"
   ]
  },
  {
   "cell_type": "code",
   "execution_count": 66,
   "metadata": {},
   "outputs": [],
   "source": [
    "icfes.to_csv(\"./data/ICFES/icfes_preprocessing.csv\", index=False, encoding=\"utf-8\")"
   ]
  },
  {
   "cell_type": "code",
   "execution_count": 45,
   "metadata": {},
   "outputs": [],
   "source": [
    "numerics = ['int16', 'int32', 'int64', 'float16', 'float32', 'float64']\n",
    "\n",
    "icfes.select_dtypes(include=numerics).to_csv(\"./data/ICFES/icfes_num.csv\", index=False, encoding=\"utf-8\")"
   ]
  },
  {
   "cell_type": "code",
   "execution_count": null,
   "metadata": {},
   "outputs": [],
   "source": []
  }
 ],
 "metadata": {
  "kernelspec": {
   "display_name": "Python 3",
   "language": "python",
   "name": "python3"
  },
  "language_info": {
   "codemirror_mode": {
    "name": "ipython",
    "version": 3
   },
   "file_extension": ".py",
   "mimetype": "text/x-python",
   "name": "python",
   "nbconvert_exporter": "python",
   "pygments_lexer": "ipython3",
   "version": "3.6.4"
  }
 },
 "nbformat": 4,
 "nbformat_minor": 2
}
