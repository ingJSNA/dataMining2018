{
 "cells": [
  {
   "cell_type": "markdown",
   "metadata": {},
   "source": [
    "# Taller Preprocesamiento\n",
    "\n",
    "Juan Navarro, <jsnavarroa@unal.edu.co>\n",
    "\n",
    "## 3. El número de hijos de diferentes pacientes es dado por el siguiente vector:\n",
    "\n",
    "C = {3, 1, 0, 2, 7, 3, 6, 4, −2, 0, 0, 10, 15, 6}\n",
    "\n",
    "a) Encontrar “outliers” usando parámetros estadisticos estándar: media y varianza\n",
    "\n",
    "b) Si el umbral cambia de ±3 desviaciones estandar a ±2 desviaciones estandar , ¿Cuál “outlier adicional” se encuentra?"
   ]
  },
  {
   "cell_type": "code",
   "execution_count": 16,
   "metadata": {},
   "outputs": [
    {
     "data": {
      "text/html": [
       "3.92857142857143"
      ],
      "text/latex": [
       "3.92857142857143"
      ],
      "text/markdown": [
       "3.92857142857143"
      ],
      "text/plain": [
       "[1] 3.928571"
      ]
     },
     "metadata": {},
     "output_type": "display_data"
    },
    {
     "data": {
      "text/html": [
       "20.9945054945055"
      ],
      "text/latex": [
       "20.9945054945055"
      ],
      "text/markdown": [
       "20.9945054945055"
      ],
      "text/plain": [
       "[1] 20.99451"
      ]
     },
     "metadata": {},
     "output_type": "display_data"
    },
    {
     "data": {
      "text/html": [
       "4.58197615603852"
      ],
      "text/latex": [
       "4.58197615603852"
      ],
      "text/markdown": [
       "4.58197615603852"
      ],
      "text/plain": [
       "[1] 4.581976"
      ]
     },
     "metadata": {},
     "output_type": "display_data"
    },
    {
     "data": {
      "image/png": "[encoded data removed]",
      "text/plain": [
       "Plot with title “c”"
      ]
     },
     "metadata": {},
     "output_type": "display_data"
    }
   ],
   "source": [
    "c <- c(3, 1, 0, 2, 7, 3, 6, 4, -2, 0, 0, 10, 15, 6)\n",
    "mean(c)\n",
    "var(c)\n",
    "sd(c)\n",
    "\n",
    "boxplot(c, main=\"c\", outline=TRUE)"
   ]
  },
  {
   "cell_type": "markdown",
   "metadata": {},
   "source": [
    "## 4. Dado un conjunto de tres dimensiones, \n",
    "\n",
    "X=[{1,2,0},{3,1,4},{2,1,5},{0,1,6},{2,4,3},{4,4,2},{5,2,1},{7,7,7},{0,0,0},{3,3,3}]\n",
    "\n",
    "    a) Describir el procedimiento e interpretar los resultados de detección de outliers basado en la media y varianza."
   ]
  },
  {
   "cell_type": "code",
   "execution_count": 26,
   "metadata": {},
   "outputs": [
    {
     "data": {
      "text/html": [
       "<table>\n",
       "<tbody>\n",
       "\t<tr><th scope=row>a</th><td>1</td><td>2</td><td>0</td></tr>\n",
       "\t<tr><th scope=row>b</th><td>3</td><td>1</td><td>4</td></tr>\n",
       "\t<tr><th scope=row>c</th><td>2</td><td>1</td><td>5</td></tr>\n",
       "\t<tr><th scope=row>d</th><td>0</td><td>1</td><td>6</td></tr>\n",
       "\t<tr><th scope=row>e</th><td>2</td><td>4</td><td>3</td></tr>\n",
       "\t<tr><th scope=row>f</th><td>4</td><td>4</td><td>2</td></tr>\n",
       "\t<tr><th scope=row>g</th><td>5</td><td>2</td><td>1</td></tr>\n",
       "\t<tr><th scope=row>h</th><td>7</td><td>7</td><td>7</td></tr>\n",
       "\t<tr><th scope=row>i</th><td>0</td><td>0</td><td>0</td></tr>\n",
       "\t<tr><th scope=row>j</th><td>3</td><td>3</td><td>3</td></tr>\n",
       "</tbody>\n",
       "</table>\n"
      ],
      "text/latex": [
       "\\begin{tabular}{r|lll}\n",
       "\ta & 1 & 2 & 0\\\\\n",
       "\tb & 3 & 1 & 4\\\\\n",
       "\tc & 2 & 1 & 5\\\\\n",
       "\td & 0 & 1 & 6\\\\\n",
       "\te & 2 & 4 & 3\\\\\n",
       "\tf & 4 & 4 & 2\\\\\n",
       "\tg & 5 & 2 & 1\\\\\n",
       "\th & 7 & 7 & 7\\\\\n",
       "\ti & 0 & 0 & 0\\\\\n",
       "\tj & 3 & 3 & 3\\\\\n",
       "\\end{tabular}\n"
      ],
      "text/markdown": [
       "\n",
       "| a | 1 | 2 | 0 | \n",
       "| b | 3 | 1 | 4 | \n",
       "| c | 2 | 1 | 5 | \n",
       "| d | 0 | 1 | 6 | \n",
       "| e | 2 | 4 | 3 | \n",
       "| f | 4 | 4 | 2 | \n",
       "| g | 5 | 2 | 1 | \n",
       "| h | 7 | 7 | 7 | \n",
       "| i | 0 | 0 | 0 | \n",
       "| j | 3 | 3 | 3 | \n",
       "\n",
       "\n"
      ],
      "text/plain": [
       "  [,1] [,2] [,3]\n",
       "a 1    2    0   \n",
       "b 3    1    4   \n",
       "c 2    1    5   \n",
       "d 0    1    6   \n",
       "e 2    4    3   \n",
       "f 4    4    2   \n",
       "g 5    2    1   \n",
       "h 7    7    7   \n",
       "i 0    0    0   \n",
       "j 3    3    3   "
      ]
     },
     "metadata": {},
     "output_type": "display_data"
    },
    {
     "data": {
      "text/html": [
       "<table>\n",
       "<thead><tr><th></th><th scope=col>a</th><th scope=col>b</th><th scope=col>c</th><th scope=col>d</th><th scope=col>e</th><th scope=col>f</th><th scope=col>g</th><th scope=col>h</th><th scope=col>i</th><th scope=col>j</th></tr></thead>\n",
       "<tbody>\n",
       "\t<tr><th scope=row>a</th><td> 0.000000</td><td>4.582576 </td><td>5.196152 </td><td>6.164414 </td><td>3.741657 </td><td>4.123106 </td><td>4.123106 </td><td>10.488088</td><td> 2.236068</td><td>3.741657 </td></tr>\n",
       "\t<tr><th scope=row>b</th><td> 4.582576</td><td>0.000000 </td><td>1.414214 </td><td>3.605551 </td><td>3.316625 </td><td>3.741657 </td><td>3.741657 </td><td> 7.810250</td><td> 5.099020</td><td>2.236068 </td></tr>\n",
       "\t<tr><th scope=row>c</th><td> 5.196152</td><td>1.414214 </td><td>0.000000 </td><td>2.236068 </td><td>3.605551 </td><td>4.690416 </td><td>5.099020 </td><td> 8.062258</td><td> 5.477226</td><td>3.000000 </td></tr>\n",
       "\t<tr><th scope=row>d</th><td> 6.164414</td><td>3.605551 </td><td>2.236068 </td><td>0.000000 </td><td>4.690416 </td><td>6.403124 </td><td>7.141428 </td><td> 9.273618</td><td> 6.082763</td><td>4.690416 </td></tr>\n",
       "\t<tr><th scope=row>e</th><td> 3.741657</td><td>3.316625 </td><td>3.605551 </td><td>4.690416 </td><td>0.000000 </td><td>2.236068 </td><td>4.123106 </td><td> 7.071068</td><td> 5.385165</td><td>1.414214 </td></tr>\n",
       "\t<tr><th scope=row>f</th><td> 4.123106</td><td>3.741657 </td><td>4.690416 </td><td>6.403124 </td><td>2.236068 </td><td>0.000000 </td><td>2.449490 </td><td> 6.557439</td><td> 6.000000</td><td>1.732051 </td></tr>\n",
       "\t<tr><th scope=row>g</th><td> 4.123106</td><td>3.741657 </td><td>5.099020 </td><td>7.141428 </td><td>4.123106 </td><td>2.449490 </td><td>0.000000 </td><td> 8.062258</td><td> 5.477226</td><td>3.000000 </td></tr>\n",
       "\t<tr><th scope=row>h</th><td>10.488088</td><td>7.810250 </td><td>8.062258 </td><td>9.273618 </td><td>7.071068 </td><td>6.557439 </td><td>8.062258 </td><td> 0.000000</td><td>12.124356</td><td>6.928203 </td></tr>\n",
       "\t<tr><th scope=row>i</th><td> 2.236068</td><td>5.099020 </td><td>5.477226 </td><td>6.082763 </td><td>5.385165 </td><td>6.000000 </td><td>5.477226 </td><td>12.124356</td><td> 0.000000</td><td>5.196152 </td></tr>\n",
       "\t<tr><th scope=row>j</th><td> 3.741657</td><td>2.236068 </td><td>3.000000 </td><td>4.690416 </td><td>1.414214 </td><td>1.732051 </td><td>3.000000 </td><td> 6.928203</td><td> 5.196152</td><td>0.000000 </td></tr>\n",
       "</tbody>\n",
       "</table>\n"
      ],
      "text/latex": [
       "\\begin{tabular}{r|llllllllll}\n",
       "  & a & b & c & d & e & f & g & h & i & j\\\\\n",
       "\\hline\n",
       "\ta &  0.000000 & 4.582576  & 5.196152  & 6.164414  & 3.741657  & 4.123106  & 4.123106  & 10.488088 &  2.236068 & 3.741657 \\\\\n",
       "\tb &  4.582576 & 0.000000  & 1.414214  & 3.605551  & 3.316625  & 3.741657  & 3.741657  &  7.810250 &  5.099020 & 2.236068 \\\\\n",
       "\tc &  5.196152 & 1.414214  & 0.000000  & 2.236068  & 3.605551  & 4.690416  & 5.099020  &  8.062258 &  5.477226 & 3.000000 \\\\\n",
       "\td &  6.164414 & 3.605551  & 2.236068  & 0.000000  & 4.690416  & 6.403124  & 7.141428  &  9.273618 &  6.082763 & 4.690416 \\\\\n",
       "\te &  3.741657 & 3.316625  & 3.605551  & 4.690416  & 0.000000  & 2.236068  & 4.123106  &  7.071068 &  5.385165 & 1.414214 \\\\\n",
       "\tf &  4.123106 & 3.741657  & 4.690416  & 6.403124  & 2.236068  & 0.000000  & 2.449490  &  6.557439 &  6.000000 & 1.732051 \\\\\n",
       "\tg &  4.123106 & 3.741657  & 5.099020  & 7.141428  & 4.123106  & 2.449490  & 0.000000  &  8.062258 &  5.477226 & 3.000000 \\\\\n",
       "\th & 10.488088 & 7.810250  & 8.062258  & 9.273618  & 7.071068  & 6.557439  & 8.062258  &  0.000000 & 12.124356 & 6.928203 \\\\\n",
       "\ti &  2.236068 & 5.099020  & 5.477226  & 6.082763  & 5.385165  & 6.000000  & 5.477226  & 12.124356 &  0.000000 & 5.196152 \\\\\n",
       "\tj &  3.741657 & 2.236068  & 3.000000  & 4.690416  & 1.414214  & 1.732051  & 3.000000  &  6.928203 &  5.196152 & 0.000000 \\\\\n",
       "\\end{tabular}\n"
      ],
      "text/markdown": [
       "\n",
       "| <!--/--> | a | b | c | d | e | f | g | h | i | j | \n",
       "|---|---|---|---|---|---|---|---|---|---|\n",
       "| a |  0.000000 | 4.582576  | 5.196152  | 6.164414  | 3.741657  | 4.123106  | 4.123106  | 10.488088 |  2.236068 | 3.741657  | \n",
       "| b |  4.582576 | 0.000000  | 1.414214  | 3.605551  | 3.316625  | 3.741657  | 3.741657  |  7.810250 |  5.099020 | 2.236068  | \n",
       "| c |  5.196152 | 1.414214  | 0.000000  | 2.236068  | 3.605551  | 4.690416  | 5.099020  |  8.062258 |  5.477226 | 3.000000  | \n",
       "| d |  6.164414 | 3.605551  | 2.236068  | 0.000000  | 4.690416  | 6.403124  | 7.141428  |  9.273618 |  6.082763 | 4.690416  | \n",
       "| e |  3.741657 | 3.316625  | 3.605551  | 4.690416  | 0.000000  | 2.236068  | 4.123106  |  7.071068 |  5.385165 | 1.414214  | \n",
       "| f |  4.123106 | 3.741657  | 4.690416  | 6.403124  | 2.236068  | 0.000000  | 2.449490  |  6.557439 |  6.000000 | 1.732051  | \n",
       "| g |  4.123106 | 3.741657  | 5.099020  | 7.141428  | 4.123106  | 2.449490  | 0.000000  |  8.062258 |  5.477226 | 3.000000  | \n",
       "| h | 10.488088 | 7.810250  | 8.062258  | 9.273618  | 7.071068  | 6.557439  | 8.062258  |  0.000000 | 12.124356 | 6.928203  | \n",
       "| i |  2.236068 | 5.099020  | 5.477226  | 6.082763  | 5.385165  | 6.000000  | 5.477226  | 12.124356 |  0.000000 | 5.196152  | \n",
       "| j |  3.741657 | 2.236068  | 3.000000  | 4.690416  | 1.414214  | 1.732051  | 3.000000  |  6.928203 |  5.196152 | 0.000000  | \n",
       "\n",
       "\n"
      ],
      "text/plain": [
       "  a         b        c        d        e        f        g        h        \n",
       "a  0.000000 4.582576 5.196152 6.164414 3.741657 4.123106 4.123106 10.488088\n",
       "b  4.582576 0.000000 1.414214 3.605551 3.316625 3.741657 3.741657  7.810250\n",
       "c  5.196152 1.414214 0.000000 2.236068 3.605551 4.690416 5.099020  8.062258\n",
       "d  6.164414 3.605551 2.236068 0.000000 4.690416 6.403124 7.141428  9.273618\n",
       "e  3.741657 3.316625 3.605551 4.690416 0.000000 2.236068 4.123106  7.071068\n",
       "f  4.123106 3.741657 4.690416 6.403124 2.236068 0.000000 2.449490  6.557439\n",
       "g  4.123106 3.741657 5.099020 7.141428 4.123106 2.449490 0.000000  8.062258\n",
       "h 10.488088 7.810250 8.062258 9.273618 7.071068 6.557439 8.062258  0.000000\n",
       "i  2.236068 5.099020 5.477226 6.082763 5.385165 6.000000 5.477226 12.124356\n",
       "j  3.741657 2.236068 3.000000 4.690416 1.414214 1.732051 3.000000  6.928203\n",
       "  i         j       \n",
       "a  2.236068 3.741657\n",
       "b  5.099020 2.236068\n",
       "c  5.477226 3.000000\n",
       "d  6.082763 4.690416\n",
       "e  5.385165 1.414214\n",
       "f  6.000000 1.732051\n",
       "g  5.477226 3.000000\n",
       "h 12.124356 6.928203\n",
       "i  0.000000 5.196152\n",
       "j  5.196152 0.000000"
      ]
     },
     "metadata": {},
     "output_type": "display_data"
    },
    {
     "data": {
      "text/html": [
       "<table>\n",
       "<thead><tr><th></th><th scope=col>a</th><th scope=col>b</th><th scope=col>c</th><th scope=col>d</th><th scope=col>e</th><th scope=col>f</th><th scope=col>g</th><th scope=col>h</th><th scope=col>i</th><th scope=col>j</th></tr></thead>\n",
       "<tbody>\n",
       "\t<tr><th scope=row>Mean</th><td> 4.440</td><td> 3.555</td><td> 3.878</td><td> 5.029</td><td> 3.558</td><td> 3.793</td><td> 4.322</td><td> 7.638</td><td> 5.308</td><td> 3.194</td></tr>\n",
       "\t<tr><th scope=row>SD</th><td> 2.706</td><td> 2.125</td><td> 2.324</td><td> 2.627</td><td> 2.010</td><td> 2.189</td><td> 2.315</td><td> 3.191</td><td> 3.078</td><td> 2.027</td></tr>\n",
       "\t<tr><th scope=row>low</th><td>-3.678</td><td>-2.820</td><td>-3.094</td><td>-2.852</td><td>-2.473</td><td>-2.772</td><td>-2.623</td><td>-1.935</td><td>-3.927</td><td>-2.888</td></tr>\n",
       "\t<tr><th scope=row>Min</th><td> 0.000</td><td> 0.000</td><td> 0.000</td><td> 0.000</td><td> 0.000</td><td> 0.000</td><td> 0.000</td><td> 0.000</td><td> 0.000</td><td> 0.000</td></tr>\n",
       "\t<tr><th scope=row>high</th><td>12.557</td><td> 9.929</td><td>10.850</td><td>12.910</td><td> 9.590</td><td>10.359</td><td>11.266</td><td>17.211</td><td>14.542</td><td> 9.276</td></tr>\n",
       "\t<tr><th scope=row>Max</th><td>10.488</td><td> 7.810</td><td> 8.062</td><td> 9.274</td><td> 7.071</td><td> 6.557</td><td> 8.062</td><td>12.124</td><td>12.124</td><td> 6.928</td></tr>\n",
       "\t<tr><th scope=row>Count</th><td>10.000</td><td>10.000</td><td>10.000</td><td>10.000</td><td>10.000</td><td>10.000</td><td>10.000</td><td>10.000</td><td>10.000</td><td>10.000</td></tr>\n",
       "</tbody>\n",
       "</table>\n"
      ],
      "text/latex": [
       "\\begin{tabular}{r|llllllllll}\n",
       "  & a & b & c & d & e & f & g & h & i & j\\\\\n",
       "\\hline\n",
       "\tMean &  4.440 &  3.555 &  3.878 &  5.029 &  3.558 &  3.793 &  4.322 &  7.638 &  5.308 &  3.194\\\\\n",
       "\tSD &  2.706 &  2.125 &  2.324 &  2.627 &  2.010 &  2.189 &  2.315 &  3.191 &  3.078 &  2.027\\\\\n",
       "\tlow & -3.678 & -2.820 & -3.094 & -2.852 & -2.473 & -2.772 & -2.623 & -1.935 & -3.927 & -2.888\\\\\n",
       "\tMin &  0.000 &  0.000 &  0.000 &  0.000 &  0.000 &  0.000 &  0.000 &  0.000 &  0.000 &  0.000\\\\\n",
       "\thigh & 12.557 &  9.929 & 10.850 & 12.910 &  9.590 & 10.359 & 11.266 & 17.211 & 14.542 &  9.276\\\\\n",
       "\tMax & 10.488 &  7.810 &  8.062 &  9.274 &  7.071 &  6.557 &  8.062 & 12.124 & 12.124 &  6.928\\\\\n",
       "\tCount & 10.000 & 10.000 & 10.000 & 10.000 & 10.000 & 10.000 & 10.000 & 10.000 & 10.000 & 10.000\\\\\n",
       "\\end{tabular}\n"
      ],
      "text/markdown": [
       "\n",
       "| <!--/--> | a | b | c | d | e | f | g | h | i | j | \n",
       "|---|---|---|---|---|---|---|\n",
       "| Mean |  4.440 |  3.555 |  3.878 |  5.029 |  3.558 |  3.793 |  4.322 |  7.638 |  5.308 |  3.194 | \n",
       "| SD |  2.706 |  2.125 |  2.324 |  2.627 |  2.010 |  2.189 |  2.315 |  3.191 |  3.078 |  2.027 | \n",
       "| low | -3.678 | -2.820 | -3.094 | -2.852 | -2.473 | -2.772 | -2.623 | -1.935 | -3.927 | -2.888 | \n",
       "| Min |  0.000 |  0.000 |  0.000 |  0.000 |  0.000 |  0.000 |  0.000 |  0.000 |  0.000 |  0.000 | \n",
       "| high | 12.557 |  9.929 | 10.850 | 12.910 |  9.590 | 10.359 | 11.266 | 17.211 | 14.542 |  9.276 | \n",
       "| Max | 10.488 |  7.810 |  8.062 |  9.274 |  7.071 |  6.557 |  8.062 | 12.124 | 12.124 |  6.928 | \n",
       "| Count | 10.000 | 10.000 | 10.000 | 10.000 | 10.000 | 10.000 | 10.000 | 10.000 | 10.000 | 10.000 | \n",
       "\n",
       "\n"
      ],
      "text/plain": [
       "      a      b      c      d      e      f      g      h      i      j     \n",
       "Mean   4.440  3.555  3.878  5.029  3.558  3.793  4.322  7.638  5.308  3.194\n",
       "SD     2.706  2.125  2.324  2.627  2.010  2.189  2.315  3.191  3.078  2.027\n",
       "low   -3.678 -2.820 -3.094 -2.852 -2.473 -2.772 -2.623 -1.935 -3.927 -2.888\n",
       "Min    0.000  0.000  0.000  0.000  0.000  0.000  0.000  0.000  0.000  0.000\n",
       "high  12.557  9.929 10.850 12.910  9.590 10.359 11.266 17.211 14.542  9.276\n",
       "Max   10.488  7.810  8.062  9.274  7.071  6.557  8.062 12.124 12.124  6.928\n",
       "Count 10.000 10.000 10.000 10.000 10.000 10.000 10.000 10.000 10.000 10.000"
      ]
     },
     "metadata": {},
     "output_type": "display_data"
    },
    {
     "data": {
      "image/png": "[encoded data removed]",
      "text/plain": [
       "Plot with title “X”"
      ]
     },
     "metadata": {},
     "output_type": "display_data"
    }
   ],
   "source": [
    "X = matrix( c(1,2,0,3,1,4,2,1,5,0,1,6,2,4,3,4,4,2,5,2,1,7,7,7,0,0,0,3,3,3), ncol=3, byrow=TRUE)\n",
    "rownames(X) <- letters[1:10]\n",
    "X\n",
    "\n",
    "euclidean <- data.matrix(dist(X, method = \"euclidean\", upper=FALSE))\n",
    "\n",
    "#euclidean[lower.tri(euclidean)] <- NA\n",
    "\n",
    "euclidean\n",
    "\n",
    "# Defining the function, remove NA values by default\n",
    "my.summary <- function(x, na.rm=TRUE){\n",
    "  result <- c(Mean = mean(x, na.rm=na.rm),\n",
    "              SD = sd(x, na.rm=na.rm),\n",
    "              low = mean(x, na.rm=na.rm) + sd(x, na.rm=na.rm)*-3,\n",
    "              Min = min(x, na.rm=na.rm),\n",
    "              high = mean(x, na.rm=na.rm) + sd(x, na.rm=na.rm)*3,\n",
    "              Max = max(x, na.rm=na.rm),\n",
    "              Count = length(x))\n",
    "    \n",
    "    \n",
    "    \n",
    "    result <- round(result, digits=3)\n",
    "}\n",
    "\n",
    "\n",
    "# Applying the function\n",
    "apply(euclidean, 2, my.summary)\n",
    "\n",
    "\n",
    "# Box plots\n",
    "boxplot(euclidean, main=\"X\", outline=TRUE, use.cols = TRUE)"
   ]
  },
  {
   "cell_type": "markdown",
   "metadata": {},
   "source": [
    "## 9. Escoger un conjunto de datos del repositorio de Machine learning, que tenga varias dimensiones y que sean numéricas, y aplicar PCA. Describir el nuevo conjunto de datos."
   ]
  },
  {
   "cell_type": "code",
   "execution_count": 8,
   "metadata": {},
   "outputs": [
    {
     "data": {
      "text/html": [
       "<table>\n",
       "<thead><tr><th scope=col>Alcohol</th><th scope=col>Malic acid</th><th scope=col>Ash</th><th scope=col>Alcalinity of ash</th><th scope=col>Magnesium</th><th scope=col>Total phenols</th><th scope=col>Flavanoids</th><th scope=col>Nonflavanoid phenols</th><th scope=col>Proanthocyanins</th><th scope=col>Color intensity</th><th scope=col>Hue</th><th scope=col>OD280/OD315 of diluted wines</th><th scope=col>Proline</th><th scope=col>class identifier</th></tr></thead>\n",
       "<tbody>\n",
       "\t<tr><td>14.23</td><td>1.71 </td><td>2.43 </td><td>15.6 </td><td>127  </td><td>2.80 </td><td>3.06 </td><td>0.28 </td><td>2.29 </td><td>5.64 </td><td>1.04 </td><td>3.92 </td><td>1065 </td><td>1    </td></tr>\n",
       "\t<tr><td>13.20</td><td>1.78 </td><td>2.14 </td><td>11.2 </td><td>100  </td><td>2.65 </td><td>2.76 </td><td>0.26 </td><td>1.28 </td><td>4.38 </td><td>1.05 </td><td>3.40 </td><td>1050 </td><td>1    </td></tr>\n",
       "\t<tr><td>13.16</td><td>2.36 </td><td>2.67 </td><td>18.6 </td><td>101  </td><td>2.80 </td><td>3.24 </td><td>0.30 </td><td>2.81 </td><td>5.68 </td><td>1.03 </td><td>3.17 </td><td>1185 </td><td>1    </td></tr>\n",
       "\t<tr><td>14.37</td><td>1.95 </td><td>2.50 </td><td>16.8 </td><td>113  </td><td>3.85 </td><td>3.49 </td><td>0.24 </td><td>2.18 </td><td>7.80 </td><td>0.86 </td><td>3.45 </td><td>1480 </td><td>1    </td></tr>\n",
       "\t<tr><td>13.24</td><td>2.59 </td><td>2.87 </td><td>21.0 </td><td>118  </td><td>2.80 </td><td>2.69 </td><td>0.39 </td><td>1.82 </td><td>4.32 </td><td>1.04 </td><td>2.93 </td><td> 735 </td><td>1    </td></tr>\n",
       "\t<tr><td>14.20</td><td>1.76 </td><td>2.45 </td><td>15.2 </td><td>112  </td><td>3.27 </td><td>3.39 </td><td>0.34 </td><td>1.97 </td><td>6.75 </td><td>1.05 </td><td>2.85 </td><td>1450 </td><td>1    </td></tr>\n",
       "</tbody>\n",
       "</table>\n"
      ],
      "text/latex": [
       "\\begin{tabular}{r|llllllllllllll}\n",
       " Alcohol & Malic acid & Ash & Alcalinity of ash & Magnesium & Total phenols & Flavanoids & Nonflavanoid phenols & Proanthocyanins & Color intensity & Hue & OD280/OD315 of diluted wines & Proline & class identifier\\\\\n",
       "\\hline\n",
       "\t 14.23 & 1.71  & 2.43  & 15.6  & 127   & 2.80  & 3.06  & 0.28  & 2.29  & 5.64  & 1.04  & 3.92  & 1065  & 1    \\\\\n",
       "\t 13.20 & 1.78  & 2.14  & 11.2  & 100   & 2.65  & 2.76  & 0.26  & 1.28  & 4.38  & 1.05  & 3.40  & 1050  & 1    \\\\\n",
       "\t 13.16 & 2.36  & 2.67  & 18.6  & 101   & 2.80  & 3.24  & 0.30  & 2.81  & 5.68  & 1.03  & 3.17  & 1185  & 1    \\\\\n",
       "\t 14.37 & 1.95  & 2.50  & 16.8  & 113   & 3.85  & 3.49  & 0.24  & 2.18  & 7.80  & 0.86  & 3.45  & 1480  & 1    \\\\\n",
       "\t 13.24 & 2.59  & 2.87  & 21.0  & 118   & 2.80  & 2.69  & 0.39  & 1.82  & 4.32  & 1.04  & 2.93  &  735  & 1    \\\\\n",
       "\t 14.20 & 1.76  & 2.45  & 15.2  & 112   & 3.27  & 3.39  & 0.34  & 1.97  & 6.75  & 1.05  & 2.85  & 1450  & 1    \\\\\n",
       "\\end{tabular}\n"
      ],
      "text/markdown": [
       "\n",
       "Alcohol | Malic acid | Ash | Alcalinity of ash | Magnesium | Total phenols | Flavanoids | Nonflavanoid phenols | Proanthocyanins | Color intensity | Hue | OD280/OD315 of diluted wines | Proline | class identifier | \n",
       "|---|---|---|---|---|---|\n",
       "| 14.23 | 1.71  | 2.43  | 15.6  | 127   | 2.80  | 3.06  | 0.28  | 2.29  | 5.64  | 1.04  | 3.92  | 1065  | 1     | \n",
       "| 13.20 | 1.78  | 2.14  | 11.2  | 100   | 2.65  | 2.76  | 0.26  | 1.28  | 4.38  | 1.05  | 3.40  | 1050  | 1     | \n",
       "| 13.16 | 2.36  | 2.67  | 18.6  | 101   | 2.80  | 3.24  | 0.30  | 2.81  | 5.68  | 1.03  | 3.17  | 1185  | 1     | \n",
       "| 14.37 | 1.95  | 2.50  | 16.8  | 113   | 3.85  | 3.49  | 0.24  | 2.18  | 7.80  | 0.86  | 3.45  | 1480  | 1     | \n",
       "| 13.24 | 2.59  | 2.87  | 21.0  | 118   | 2.80  | 2.69  | 0.39  | 1.82  | 4.32  | 1.04  | 2.93  |  735  | 1     | \n",
       "| 14.20 | 1.76  | 2.45  | 15.2  | 112   | 3.27  | 3.39  | 0.34  | 1.97  | 6.75  | 1.05  | 2.85  | 1450  | 1     | \n",
       "\n",
       "\n"
      ],
      "text/plain": [
       "  Alcohol Malic acid Ash  Alcalinity of ash Magnesium Total phenols Flavanoids\n",
       "1 14.23   1.71       2.43 15.6              127       2.80          3.06      \n",
       "2 13.20   1.78       2.14 11.2              100       2.65          2.76      \n",
       "3 13.16   2.36       2.67 18.6              101       2.80          3.24      \n",
       "4 14.37   1.95       2.50 16.8              113       3.85          3.49      \n",
       "5 13.24   2.59       2.87 21.0              118       2.80          2.69      \n",
       "6 14.20   1.76       2.45 15.2              112       3.27          3.39      \n",
       "  Nonflavanoid phenols Proanthocyanins Color intensity Hue \n",
       "1 0.28                 2.29            5.64            1.04\n",
       "2 0.26                 1.28            4.38            1.05\n",
       "3 0.30                 2.81            5.68            1.03\n",
       "4 0.24                 2.18            7.80            0.86\n",
       "5 0.39                 1.82            4.32            1.04\n",
       "6 0.34                 1.97            6.75            1.05\n",
       "  OD280/OD315 of diluted wines Proline class identifier\n",
       "1 3.92                         1065    1               \n",
       "2 3.40                         1050    1               \n",
       "3 3.17                         1185    1               \n",
       "4 3.45                         1480    1               \n",
       "5 2.93                          735    1               \n",
       "6 2.85                         1450    1               "
      ]
     },
     "metadata": {},
     "output_type": "display_data"
    }
   ],
   "source": [
    "wine <- read.csv(\"./data/UCI/wine.data\", header=FALSE)\n",
    "\n",
    "names(wine) <- c(\"class identifier\", \"Alcohol\", \"Malic acid\", \"Ash\", \"Alcalinity of ash\", \"Magnesium\", \n",
    "                 \"Total phenols\", \"Flavanoids\", \"Nonflavanoid phenols\", \"Proanthocyanins\", \"Color intensity\", \n",
    "                 \"Hue\", \"OD280/OD315 of diluted wines\", \"Proline\")\n",
    "\n",
    "# Reorder columns by name\n",
    "col_order <- c(\"Alcohol\", \"Malic acid\", \"Ash\", \"Alcalinity of ash\", \"Magnesium\", \n",
    "                 \"Total phenols\", \"Flavanoids\", \"Nonflavanoid phenols\", \"Proanthocyanins\", \"Color intensity\", \n",
    "                 \"Hue\", \"OD280/OD315 of diluted wines\", \"Proline\", \"class identifier\")\n",
    "wine <- wine[, col_order]\n",
    "\n",
    "head(wine)\n",
    "\n",
    "write.csv(wine, file = \"./data/UCI/wine.csv\", row.names=FALSE)"
   ]
  },
  {
   "cell_type": "code",
   "execution_count": null,
   "metadata": {},
   "outputs": [],
   "source": []
  }
 ],
 "metadata": {
  "kernelspec": {
   "display_name": "R",
   "language": "R",
   "name": "ir"
  },
  "language_info": {
   "codemirror_mode": "r",
   "file_extension": ".r",
   "mimetype": "text/x-r-source",
   "name": "R",
   "pygments_lexer": "r",
   "version": "3.4.2"
  }
 },
 "nbformat": 4,
 "nbformat_minor": 2
}
