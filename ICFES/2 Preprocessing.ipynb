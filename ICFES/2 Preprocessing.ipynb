{
 "cells": [
  {
   "cell_type": "code",
   "execution_count": 32,
   "metadata": {},
   "outputs": [],
   "source": [
    "import pandas as pd\n",
    "import matplotlib.pyplot as plt\n",
    "from IPython.display import display\n",
    "\n",
    "%matplotlib inline"
   ]
  },
  {
   "cell_type": "code",
   "execution_count": 33,
   "metadata": {},
   "outputs": [
    {
     "name": "stdout",
     "output_type": "stream",
     "text": [
      "(559253, 81)\n",
      "559253\n"
     ]
    },
    {
     "data": {
      "text/html": [
       "<div>\n",
       "<style scoped>\n",
       "    .dataframe tbody tr th:only-of-type {\n",
       "        vertical-align: middle;\n",
       "    }\n",
       "\n",
       "    .dataframe tbody tr th {\n",
       "        vertical-align: top;\n",
       "    }\n",
       "\n",
       "    .dataframe thead th {\n",
       "        text-align: right;\n",
       "    }\n",
       "</style>\n",
       "<table border=\"1\" class=\"dataframe\">\n",
       "  <thead>\n",
       "    <tr style=\"text-align: right;\">\n",
       "      <th></th>\n",
       "      <th>COLE_AREA_UBICACION</th>\n",
       "      <th>COLE_BILINGUE</th>\n",
       "      <th>COLE_CALENDARIO</th>\n",
       "      <th>COLE_CARACTER</th>\n",
       "      <th>COLE_CODIGO_ICFES</th>\n",
       "      <th>COLE_COD_DANE_ESTABLECIMIENTO</th>\n",
       "      <th>COLE_COD_DANE_SEDE</th>\n",
       "      <th>COLE_COD_DEPTO_UBICACION</th>\n",
       "      <th>COLE_COD_MCPIO_UBICACION</th>\n",
       "      <th>COLE_DEPTO_UBICACION</th>\n",
       "      <th>...</th>\n",
       "      <th>PERCENTIL_LECTURA_CRITICA</th>\n",
       "      <th>PERCENTIL_MATEMATICAS</th>\n",
       "      <th>PERCENTIL_SOCIALES_CIUDADANAS</th>\n",
       "      <th>PERIODO</th>\n",
       "      <th>PUNT_C_NATURALES</th>\n",
       "      <th>PUNT_GLOBAL</th>\n",
       "      <th>PUNT_INGLES</th>\n",
       "      <th>PUNT_LECTURA_CRITICA</th>\n",
       "      <th>PUNT_MATEMATICAS</th>\n",
       "      <th>PUNT_SOCIALES_CIUDADANAS</th>\n",
       "    </tr>\n",
       "  </thead>\n",
       "  <tbody>\n",
       "    <tr>\n",
       "      <th>0</th>\n",
       "      <td>URBANO</td>\n",
       "      <td>N</td>\n",
       "      <td>B</td>\n",
       "      <td>TÉCNICO/ACADÉMICO</td>\n",
       "      <td>17228</td>\n",
       "      <td>376001000314</td>\n",
       "      <td>376001000314</td>\n",
       "      <td>76</td>\n",
       "      <td>76001</td>\n",
       "      <td>VALLE</td>\n",
       "      <td>...</td>\n",
       "      <td>15</td>\n",
       "      <td>4</td>\n",
       "      <td>1</td>\n",
       "      <td>20171</td>\n",
       "      <td>35</td>\n",
       "      <td>177</td>\n",
       "      <td>45</td>\n",
       "      <td>44</td>\n",
       "      <td>31</td>\n",
       "      <td>28</td>\n",
       "    </tr>\n",
       "    <tr>\n",
       "      <th>1</th>\n",
       "      <td>URBANO</td>\n",
       "      <td>NaN</td>\n",
       "      <td>B</td>\n",
       "      <td>NaN</td>\n",
       "      <td>663120</td>\n",
       "      <td>319001005240</td>\n",
       "      <td>319001005240</td>\n",
       "      <td>19</td>\n",
       "      <td>19001</td>\n",
       "      <td>CAUCA</td>\n",
       "      <td>...</td>\n",
       "      <td>78</td>\n",
       "      <td>62</td>\n",
       "      <td>85</td>\n",
       "      <td>20171</td>\n",
       "      <td>66</td>\n",
       "      <td>326</td>\n",
       "      <td>55</td>\n",
       "      <td>67</td>\n",
       "      <td>61</td>\n",
       "      <td>70</td>\n",
       "    </tr>\n",
       "    <tr>\n",
       "      <th>2</th>\n",
       "      <td>URBANO</td>\n",
       "      <td>S</td>\n",
       "      <td>B</td>\n",
       "      <td>ACADÉMICO</td>\n",
       "      <td>16741</td>\n",
       "      <td>376001001221</td>\n",
       "      <td>376001001221</td>\n",
       "      <td>76</td>\n",
       "      <td>76001</td>\n",
       "      <td>VALLE</td>\n",
       "      <td>...</td>\n",
       "      <td>91</td>\n",
       "      <td>99</td>\n",
       "      <td>76</td>\n",
       "      <td>20171</td>\n",
       "      <td>70</td>\n",
       "      <td>378</td>\n",
       "      <td>100</td>\n",
       "      <td>72</td>\n",
       "      <td>86</td>\n",
       "      <td>66</td>\n",
       "    </tr>\n",
       "    <tr>\n",
       "      <th>3</th>\n",
       "      <td>URBANO</td>\n",
       "      <td>S</td>\n",
       "      <td>B</td>\n",
       "      <td>ACADÉMICO</td>\n",
       "      <td>16741</td>\n",
       "      <td>376001001221</td>\n",
       "      <td>376001001221</td>\n",
       "      <td>76</td>\n",
       "      <td>76001</td>\n",
       "      <td>VALLE</td>\n",
       "      <td>...</td>\n",
       "      <td>96</td>\n",
       "      <td>96</td>\n",
       "      <td>100</td>\n",
       "      <td>20171</td>\n",
       "      <td>72</td>\n",
       "      <td>389</td>\n",
       "      <td>85</td>\n",
       "      <td>75</td>\n",
       "      <td>79</td>\n",
       "      <td>83</td>\n",
       "    </tr>\n",
       "    <tr>\n",
       "      <th>4</th>\n",
       "      <td>URBANO</td>\n",
       "      <td>S</td>\n",
       "      <td>B</td>\n",
       "      <td>ACADÉMICO</td>\n",
       "      <td>16741</td>\n",
       "      <td>376001001221</td>\n",
       "      <td>376001001221</td>\n",
       "      <td>76</td>\n",
       "      <td>76001</td>\n",
       "      <td>VALLE</td>\n",
       "      <td>...</td>\n",
       "      <td>38</td>\n",
       "      <td>35</td>\n",
       "      <td>63</td>\n",
       "      <td>20171</td>\n",
       "      <td>52</td>\n",
       "      <td>281</td>\n",
       "      <td>80</td>\n",
       "      <td>54</td>\n",
       "      <td>50</td>\n",
       "      <td>61</td>\n",
       "    </tr>\n",
       "  </tbody>\n",
       "</table>\n",
       "<p>5 rows × 81 columns</p>\n",
       "</div>"
      ],
      "text/plain": [
       "  COLE_AREA_UBICACION COLE_BILINGUE COLE_CALENDARIO      COLE_CARACTER  \\\n",
       "0              URBANO             N               B  TÉCNICO/ACADÉMICO   \n",
       "1              URBANO           NaN               B                NaN   \n",
       "2              URBANO             S               B          ACADÉMICO   \n",
       "3              URBANO             S               B          ACADÉMICO   \n",
       "4              URBANO             S               B          ACADÉMICO   \n",
       "\n",
       "   COLE_CODIGO_ICFES  COLE_COD_DANE_ESTABLECIMIENTO  COLE_COD_DANE_SEDE  \\\n",
       "0              17228                   376001000314        376001000314   \n",
       "1             663120                   319001005240        319001005240   \n",
       "2              16741                   376001001221        376001001221   \n",
       "3              16741                   376001001221        376001001221   \n",
       "4              16741                   376001001221        376001001221   \n",
       "\n",
       "   COLE_COD_DEPTO_UBICACION  COLE_COD_MCPIO_UBICACION COLE_DEPTO_UBICACION  \\\n",
       "0                        76                     76001                VALLE   \n",
       "1                        19                     19001                CAUCA   \n",
       "2                        76                     76001                VALLE   \n",
       "3                        76                     76001                VALLE   \n",
       "4                        76                     76001                VALLE   \n",
       "\n",
       "             ...            PERCENTIL_LECTURA_CRITICA PERCENTIL_MATEMATICAS  \\\n",
       "0            ...                                   15                     4   \n",
       "1            ...                                   78                    62   \n",
       "2            ...                                   91                    99   \n",
       "3            ...                                   96                    96   \n",
       "4            ...                                   38                    35   \n",
       "\n",
       "  PERCENTIL_SOCIALES_CIUDADANAS PERIODO PUNT_C_NATURALES PUNT_GLOBAL  \\\n",
       "0                             1   20171               35         177   \n",
       "1                            85   20171               66         326   \n",
       "2                            76   20171               70         378   \n",
       "3                           100   20171               72         389   \n",
       "4                            63   20171               52         281   \n",
       "\n",
       "  PUNT_INGLES  PUNT_LECTURA_CRITICA PUNT_MATEMATICAS  PUNT_SOCIALES_CIUDADANAS  \n",
       "0          45                    44               31                        28  \n",
       "1          55                    67               61                        70  \n",
       "2         100                    72               86                        66  \n",
       "3          85                    75               79                        83  \n",
       "4          80                    54               50                        61  \n",
       "\n",
       "[5 rows x 81 columns]"
      ]
     },
     "execution_count": 33,
     "metadata": {},
     "output_type": "execute_result"
    }
   ],
   "source": [
    "# Read file\n",
    "icfes = pd.read_csv(\"./data/icfes.csv\", low_memory=False, encoding=\"utf-8\")\n",
    "\n",
    "print(icfes.shape)\n",
    "print(len(icfes))\n",
    "icfes.head()"
   ]
  },
  {
   "cell_type": "code",
   "execution_count": 34,
   "metadata": {},
   "outputs": [],
   "source": [
    "# Drop ID columns\n",
    "icfes = icfes.drop(columns=['ESTU_ESTUDIANTE', 'ESTU_COD_RESIDE_DEPTO', 'ESTU_COD_RESIDE_MCPIO', 'ESTU_CONSECUTIVO',\n",
    "                            'COLE_CODIGO_ICFES', 'COLE_NOMBRE_ESTABLECIMIENTO', 'COLE_NOMBRE_SEDE', \n",
    "                    'COLE_COD_MCPIO_UBICACION', \n",
    "                    'COLE_COD_DEPTO_UBICACION', 'ESTU_COD_MCPIO_PRESENTACION', 'ESTU_COD_DEPTO_PRESENTACION',\n",
    "                   'COLE_COD_DANE_ESTABLECIMIENTO', 'COLE_COD_DANE_SEDE'])"
   ]
  },
  {
   "cell_type": "code",
   "execution_count": 35,
   "metadata": {},
   "outputs": [
    {
     "data": {
      "text/html": [
       "<div>\n",
       "<style scoped>\n",
       "    .dataframe tbody tr th:only-of-type {\n",
       "        vertical-align: middle;\n",
       "    }\n",
       "\n",
       "    .dataframe tbody tr th {\n",
       "        vertical-align: top;\n",
       "    }\n",
       "\n",
       "    .dataframe thead th {\n",
       "        text-align: right;\n",
       "    }\n",
       "</style>\n",
       "<table border=\"1\" class=\"dataframe\">\n",
       "  <thead>\n",
       "    <tr style=\"text-align: right;\">\n",
       "      <th></th>\n",
       "      <th>FAMI_ESTRATOVIVIENDA</th>\n",
       "      <th>FAMI_TIENECOMPUTADOR</th>\n",
       "      <th>FAMI_TIENELAVADORA</th>\n",
       "      <th>FAMI_TIENEHORNOMICROOGAS</th>\n",
       "      <th>FAMI_TIENEAUTOMOVIL</th>\n",
       "    </tr>\n",
       "  </thead>\n",
       "  <tbody>\n",
       "  </tbody>\n",
       "</table>\n",
       "</div>"
      ],
      "text/plain": [
       "Empty DataFrame\n",
       "Columns: [FAMI_ESTRATOVIVIENDA, FAMI_TIENECOMPUTADOR, FAMI_TIENELAVADORA, FAMI_TIENEHORNOMICROOGAS, FAMI_TIENEAUTOMOVIL]\n",
       "Index: []"
      ]
     },
     "execution_count": 35,
     "metadata": {},
     "output_type": "execute_result"
    }
   ],
   "source": [
    "# Drop records without socioeconomic data\n",
    "icfes = icfes.dropna(axis=0, how='all', subset=['FAMI_ESTRATOVIVIENDA','FAMI_TIENECOMPUTADOR',\n",
    "                                                 'FAMI_TIENELAVADORA','FAMI_TIENEHORNOMICROOGAS',\n",
    "                                                'FAMI_TIENEAUTOMOVIL'])\n",
    "\n",
    "# Verify the dropping\n",
    "icfes3 = icfes.loc[icfes['FAMI_ESTRATOVIVIENDA'].isnull() \n",
    "           & icfes['FAMI_TIENECOMPUTADOR'].isnull() \n",
    "           & icfes['FAMI_TIENELAVADORA'].isnull() \n",
    "           & icfes['FAMI_TIENEHORNOMICROOGAS'].isnull() \n",
    "           & icfes['FAMI_TIENEAUTOMOVIL'].isnull()]\n",
    "\n",
    "icfes3[['FAMI_ESTRATOVIVIENDA','FAMI_TIENECOMPUTADOR',\n",
    "        'FAMI_TIENELAVADORA','FAMI_TIENEHORNOMICROOGAS','FAMI_TIENEAUTOMOVIL']]"
   ]
  },
  {
   "cell_type": "code",
   "execution_count": 36,
   "metadata": {},
   "outputs": [],
   "source": [
    "# Use the same value for equivalent values\n",
    "edu_dict = {\"No Sabe\":\"No sabe\", \n",
    "            \"Primaria Completa\": 'Primaria completa', \n",
    "            \"Primaria Incompleta\": 'Primaria incompleta',\n",
    "            \"Secundaria(Bachillerato) Incompleta\": 'Secundaria (Bachillerato) incompleta', \n",
    "            \"Secundaria(Bachillerato) Completa\": 'Secundaria (Bachillerato) completa', \n",
    "            \"Educación Técnica o Tecnológica Completa\": 'Técnica o tecnológica completa', \n",
    "            \"Educación Técnica o Tecnológica Incompleta\": 'Técnica o tecnológica incompleta', \n",
    "            \"Educación Profesional Incompleta\": 'Educación profesional incompleta', \n",
    "            \"Educación Profesional Completa\": 'Educación profesional completa'}\n",
    "\n",
    "\n",
    "icfes['FAMI_EDUCACIONPADRE'] = icfes['FAMI_EDUCACIONPADRE'].replace(to_replace=edu_dict)\n",
    "icfes['FAMI_EDUCACIONMADRE'] = icfes['FAMI_EDUCACIONMADRE'].replace(to_replace=edu_dict)\n",
    "\n",
    "icfes['ESTU_ETNIA'] = icfes['ESTU_ETNIA'].replace(\n",
    "    to_replace={\"Comunidad Rom (gitana)\": \"Comunidades Rom (Gitanas)\"})\n",
    "\n",
    "icfes['ESTU_HORASSEMANATRABAJA'] = icfes['ESTU_HORASSEMANATRABAJA'].replace(\n",
    "    to_replace={\"0\": \"No trabaja\"})\n",
    "\n",
    "icfes['FAMI_CUARTOSHOGAR'] = icfes['FAMI_CUARTOSHOGAR'].replace(\n",
    "    to_replace={\"1\": \"Uno\",\n",
    "               \"2\": \"Dos\",\n",
    "               \"3\": \"Tres\",\n",
    "               \"4\": \"Cuatro\",\n",
    "               \"5\": \"Cinco\",})"
   ]
  },
  {
   "cell_type": "code",
   "execution_count": 37,
   "metadata": {},
   "outputs": [],
   "source": [
    "# Fix capitalization\n",
    "def capitalize(df, columns):\n",
    "    for c in columns:\n",
    "        df[c] = df[c].str.capitalize()\n",
    "\n",
    "columns = ['ESTU_TIENEETNIA', 'FAMI_TIENEAUTOMOVIL', 'FAMI_TIENECOMPUTADOR']\n",
    "\n",
    "capitalize(icfes, columns)"
   ]
  },
  {
   "cell_type": "code",
   "execution_count": 38,
   "metadata": {},
   "outputs": [],
   "source": [
    "# Drop 90% > missing values\n",
    "icfes = icfes.drop(columns=['FAMI_TIENEINTERNET'])\n",
    "\n",
    "# Fill Missing values\n",
    "icfes['ESTU_ETNIA'] = icfes['ESTU_ETNIA'].fillna('Ninguno')\n",
    "icfes['ESTU_TIENEETNIA'] = icfes['ESTU_TIENEETNIA'].fillna('No')\n",
    "\n",
    "#14094 4%\n",
    "icfes['FAMI_EDUCACIONPADRE'] = icfes['FAMI_EDUCACIONPADRE'].fillna('No responde')\n",
    "#14082 4%\n",
    "icfes['FAMI_EDUCACIONMADRE'] = icfes['FAMI_EDUCACIONMADRE'].fillna('No responde')\n",
    "#16023 4%\n",
    "icfes['FAMI_ESTRATOVIVIENDA'] = icfes['FAMI_ESTRATOVIVIENDA'].fillna('No responde')\n",
    "#16328 4%\n",
    "icfes['FAMI_TIENESERVICIOTV'] = icfes['FAMI_TIENESERVICIOTV'].fillna('No responde')\n",
    "#14600 4%\n",
    "icfes['FAMI_NUMLIBROS'] = icfes['FAMI_NUMLIBROS'].fillna('No responde')\n",
    "#14779 4%\n",
    "icfes['FAMI_COMELECHEDERIVADOS'] = icfes['FAMI_COMELECHEDERIVADOS'].fillna('No responde')\n",
    "#15744 4%\n",
    "icfes['FAMI_COMECARNEPESCADOHUEVO'] = icfes['FAMI_COMECARNEPESCADOHUEVO'].fillna('No responde')\n",
    "#15609 4%\n",
    "icfes['FAMI_COMECEREALFRUTOSLEGUMBRE'] = icfes['FAMI_COMECEREALFRUTOSLEGUMBRE'].fillna('No responde')\n",
    "#15145 4%\n",
    "icfes['ESTU_DEDICACIONLECTURADIARIA'] = icfes['ESTU_DEDICACIONLECTURADIARIA'].fillna('No responde')\n",
    "#17028 4%\n",
    "icfes['ESTU_DEDICACIONINTERNET'] = icfes['ESTU_DEDICACIONINTERNET'].fillna('No responde')\n",
    "#55162 14%\n",
    "icfes['COLE_BILINGUE'] = icfes['COLE_BILINGUE'].fillna('SIN INFO')\n",
    "#6017 2%\n",
    "icfes['COLE_CARACTER'] = icfes['COLE_CARACTER'].fillna('SIN INFO')"
   ]
  },
  {
   "cell_type": "code",
   "execution_count": 39,
   "metadata": {},
   "outputs": [
    {
     "data": {
      "text/plain": [
       "F            296162\n",
       "M            245640\n",
       "Femenino       6687\n",
       "Masculino      6190\n",
       "Name: ESTU_GENERO, dtype: int64"
      ]
     },
     "metadata": {},
     "output_type": "display_data"
    },
    {
     "data": {
      "text/plain": [
       "BOGOTA             91923\n",
       "ANTIOQUIA          73029\n",
       "VALLE              45398\n",
       "CUNDINAMARCA       36143\n",
       "ATLANTICO          31733\n",
       "SANTANDER          25920\n",
       "BOLIVAR            24666\n",
       "CORDOBA            19465\n",
       "BOYACA             16831\n",
       "TOLIMA             16761\n",
       "NARIÑO             16404\n",
       "NORTE SANTANDER    15630\n",
       "MAGDALENA          15576\n",
       "HUILA              14664\n",
       "CAUCA              14294\n",
       "CESAR              12788\n",
       "META               11987\n",
       "CALDAS             10681\n",
       "RISARALDA          10591\n",
       "SUCRE              10466\n",
       "LA GUAJIRA          7532\n",
       "QUINDIO             7235\n",
       "CASANARE            5690\n",
       "PUTUMAYO            4357\n",
       "CHOCO               4283\n",
       "CAQUETA             4225\n",
       "ARAUCA              2948\n",
       "GUAVIARE             949\n",
       "AMAZONAS             843\n",
       "SAN ANDRES           631\n",
       "VICHADA              452\n",
       "VAUPES               356\n",
       "GUAINIA              225\n",
       "EXTRANJERO             3\n",
       "Name: ESTU_DEPTO_RESIDE, dtype: int64"
      ]
     },
     "metadata": {},
     "output_type": "display_data"
    },
    {
     "data": {
      "text/plain": [
       "BOGOTÁ D.C.        91923\n",
       "MEDELLIN           28163\n",
       "CALI               22117\n",
       "BARRANQUILLA       17164\n",
       "CARTAGENA          13121\n",
       "CUCUTA              8750\n",
       "SOACHA              7521\n",
       "IBAGUE              7451\n",
       "BUCARAMANGA         6574\n",
       "SANTA MARTA         6499\n",
       "VILLAVICENCIO       6451\n",
       "SOLEDAD             6426\n",
       "BELLO               5676\n",
       "VALLEDUPAR          5586\n",
       "PEREIRA             5511\n",
       "MONTERIA            5236\n",
       "PASTO               4910\n",
       "MANIZALES           4520\n",
       "NEIVA               4447\n",
       "POPAYAN             4050\n",
       "ARMENIA             4035\n",
       "SINCELEJO           3637\n",
       "BUENAVENTURA        3325\n",
       "PALMIRA             3300\n",
       "ITAGUI              3215\n",
       "FLORIDABLANCA       2893\n",
       "YOPAL               2671\n",
       "TUNJA               2546\n",
       "BARRANCABERMEJA     2494\n",
       "ENVIGADO            2455\n",
       "                   ...  \n",
       "PACOA                 18\n",
       "TARAIRA               17\n",
       "RECETOR               17\n",
       "AGUADA                17\n",
       "CARURU                17\n",
       "CACOTA                16\n",
       "EL CALVARIO           16\n",
       "ALMEIDA               16\n",
       "PANQUEBA              15\n",
       "CUITIVA               14\n",
       "MAPIRIPANA            14\n",
       "SACAMA                14\n",
       "YAVARATE              13\n",
       "SATIVASUR             13\n",
       "PACHAVITA             12\n",
       "SAN JUANITO           12\n",
       "PTO SANTANDER         11\n",
       "SAN JOAQUIN           11\n",
       "IZA                   11\n",
       "PISVA                 11\n",
       "MIRITI-PARANA         11\n",
       "BUSBANZA               9\n",
       "MEDIO ATRATO           8\n",
       "JORDAN                 7\n",
       "SAN FELIPE             7\n",
       "SIPI                   5\n",
       "BELEN DE BAJIRA        3\n",
       "EXTRANJERO             3\n",
       "LA GUADALUPE           1\n",
       "PUERTO ALEGRIA         1\n",
       "Name: ESTU_MCPIO_RESIDE, Length: 1034, dtype: int64"
      ]
     },
     "metadata": {},
     "output_type": "display_data"
    },
    {
     "data": {
      "text/plain": [
       "3 a 4      268069\n",
       "5 a 6      178437\n",
       "7 a 8       47068\n",
       "1 a 2       41523\n",
       "9 o más     19582\n",
       "Name: FAMI_PERSONASHOGAR, dtype: int64"
      ]
     },
     "metadata": {},
     "output_type": "display_data"
    },
    {
     "data": {
      "text/plain": [
       "Tres          219713\n",
       "Dos           197112\n",
       "Cuatro         73343\n",
       "Uno            30688\n",
       "Cinco          21993\n",
       "Seis o mas     11555\n",
       "6 o más          275\n",
       "Name: FAMI_CUARTOSHOGAR, dtype: int64"
      ]
     },
     "metadata": {},
     "output_type": "display_data"
    },
    {
     "data": {
      "text/plain": [
       "Si    334002\n",
       "No    220677\n",
       "Name: FAMI_TIENECOMPUTADOR, dtype: int64"
      ]
     },
     "metadata": {},
     "output_type": "display_data"
    },
    {
     "data": {
      "text/plain": [
       "Si    401414\n",
       "No    140595\n",
       "SI     12123\n",
       "NO       547\n",
       "Name: FAMI_TIENELAVADORA, dtype: int64"
      ]
     },
     "metadata": {},
     "output_type": "display_data"
    },
    {
     "data": {
      "text/plain": [
       "No    302077\n",
       "Si    239939\n",
       "SI     11100\n",
       "NO      1563\n",
       "Name: FAMI_TIENEHORNOMICROOGAS, dtype: int64"
      ]
     },
     "metadata": {},
     "output_type": "display_data"
    },
    {
     "data": {
      "text/plain": [
       "No    427239\n",
       "Si    127440\n",
       "Name: FAMI_TIENEAUTOMOVIL, dtype: int64"
      ]
     },
     "metadata": {},
     "output_type": "display_data"
    },
    {
     "data": {
      "text/plain": [
       "No    332354\n",
       "Si    209697\n",
       "NO      9518\n",
       "SI      3110\n",
       "Name: FAMI_TIENEMOTOCICLETA, dtype: int64"
      ]
     },
     "metadata": {},
     "output_type": "display_data"
    },
    {
     "data": {
      "text/plain": [
       "No    427140\n",
       "Si    114893\n",
       "SI      8370\n",
       "NO      4276\n",
       "Name: FAMI_TIENECONSOLAVIDEOJUEGOS, dtype: int64"
      ]
     },
     "metadata": {},
     "output_type": "display_data"
    },
    {
     "data": {
      "text/plain": [
       "Es agricultor, pesquero o jornalero                                                                       85405\n",
       "Trabaja por cuenta propia (por ejemplo plomero, electricista)                                             62091\n",
       "Es operario de máquinas o conduce vehículos (taxita, chofer)                                              57677\n",
       "No sabe                                                                                                   49261\n",
       "No aplica                                                                                                 47483\n",
       "Trabaja como profesional (por ejemplo médico, abogado, ingeniero)                                         44710\n",
       "Es dueño de un negocio pequeño (tiene pocos empleados o no tiene, por ejemplo tienda, papelería, etc      43470\n",
       "Trabaja como personal de limpieza, mantenimiento, seguridad o construcción                                40609\n",
       "Trabaja en el hogar, no trabaja o estudia                                                                 36232\n",
       "Es vendedor o trabaja en atención al público                                                              33745\n",
       "Tiene un trabajo de tipo auxiliar administrativo (por ejemplo, secretario o asistente)                    24422\n",
       "Es dueño de un negocio grande, tiene un cargo de nivel directivo o gerencial                              14718\n",
       "Pensionado                                                                                                13224\n",
       "Es dueño de un negocio pequeño (tiene pocos empleados o no tiene, por ejemplo tienda, papelería, etc.)      935\n",
       "No Sabe                                                                                                     697\n",
       "Name: FAMI_TRABAJOLABORPADRE, dtype: int64"
      ]
     },
     "metadata": {},
     "output_type": "display_data"
    },
    {
     "data": {
      "text/plain": [
       "Trabaja en el hogar, no trabaja o estudia                                                                 235370\n",
       "Es dueño de un negocio pequeño (tiene pocos empleados o no tiene, por ejemplo tienda, papelería, etc       46008\n",
       "Tiene un trabajo de tipo auxiliar administrativo (por ejemplo, secretario o asistente)                     45755\n",
       "Trabaja como personal de limpieza, mantenimiento, seguridad o construcción                                 45579\n",
       "Trabaja como profesional (por ejemplo médico, abogado, ingeniero)                                          43574\n",
       "Es vendedor o trabaja en atención al público                                                               41354\n",
       "No aplica                                                                                                  27328\n",
       "Trabaja por cuenta propia (por ejemplo plomero, electricista)                                              16664\n",
       "Es agricultor, pesquero o jornalero                                                                        16243\n",
       "No sabe                                                                                                    13464\n",
       "Es operario de máquinas o conduce vehículos (taxita, chofer)                                                9212\n",
       "Es dueño de un negocio grande, tiene un cargo de nivel directivo o gerencial                                9017\n",
       "Pensionado                                                                                                  4079\n",
       "Es dueño de un negocio pequeño (tiene pocos empleados o no tiene, por ejemplo tienda, papelería, etc.)      1032\n",
       "Name: FAMI_TRABAJOLABORMADRE, dtype: int64"
      ]
     },
     "metadata": {},
     "output_type": "display_data"
    },
    {
     "data": {
      "text/plain": [
       "Igual    341066\n",
       "Mejor    132903\n",
       "Peor      80710\n",
       "Name: FAMI_SITUACIONECONOMICA, dtype: int64"
      ]
     },
     "metadata": {},
     "output_type": "display_data"
    },
    {
     "data": {
      "text/plain": [
       "No trabaja             373921\n",
       "Menos de 10 horas       99162\n",
       "Entre 11 y 20 horas     42435\n",
       "Más de 30 horas         21281\n",
       "Entre 21 y 30 horas     16487\n",
       "Menos de 10               818\n",
       "Entre 11 y 20             296\n",
       "Entre 21 y 30             149\n",
       "Más de 30                 130\n",
       "Name: ESTU_HORASSEMANATRABAJA, dtype: int64"
      ]
     },
     "metadata": {},
     "output_type": "display_data"
    },
    {
     "data": {
      "text/plain": [
       "No                           398806\n",
       "Si, en efectivo              139279\n",
       "Si, en especie                 8947\n",
       "Si, en efectivo y especie      7647\n",
       "Name: ESTU_TIPOREMUNERACION, dtype: int64"
      ]
     },
     "metadata": {},
     "output_type": "display_data"
    },
    {
     "data": {
      "text/plain": [
       "N     554559\n",
       "S        119\n",
       "NO         1\n",
       "Name: ESTU_PRIVADO_LIBERTAD, dtype: int64"
      ]
     },
     "metadata": {},
     "output_type": "display_data"
    },
    {
     "data": {
      "text/plain": [
       "NSE2    225642\n",
       "NSE3    201984\n",
       "NSE1     80341\n",
       "NSE4     46712\n",
       "Name: ESTU_NSE_INDIVIDUAL, dtype: int64"
      ]
     },
     "metadata": {},
     "output_type": "display_data"
    }
   ],
   "source": [
    "# Replace missing values with the most common one\n",
    "columns = ['ESTU_GENERO', 'ESTU_DEPTO_RESIDE', 'ESTU_MCPIO_RESIDE', 'FAMI_PERSONASHOGAR', 'FAMI_CUARTOSHOGAR', \n",
    "          'FAMI_TIENECOMPUTADOR', 'FAMI_TIENELAVADORA', 'FAMI_TIENEHORNOMICROOGAS', 'FAMI_TIENEAUTOMOVIL', \n",
    "           'FAMI_TIENEMOTOCICLETA', 'FAMI_TIENECONSOLAVIDEOJUEGOS', 'FAMI_TRABAJOLABORPADRE', \n",
    "           'FAMI_TRABAJOLABORMADRE', 'FAMI_SITUACIONECONOMICA', 'ESTU_HORASSEMANATRABAJA', 'ESTU_TIPOREMUNERACION', \n",
    "          'ESTU_PRIVADO_LIBERTAD', 'ESTU_NSE_INDIVIDUAL']\n",
    "\n",
    "for c in columns:\n",
    "    if icfes[c].isnull().sum() > 0:\n",
    "        icfes[c] = icfes[c].fillna(icfes[c].value_counts().idxmax())\n",
    "        display(icfes[c].value_counts(dropna=False))"
   ]
  },
  {
   "cell_type": "code",
   "execution_count": 40,
   "metadata": {
    "scrolled": false
   },
   "outputs": [
    {
     "data": {
      "image/png": "[encoded data removed]",
      "text/plain": [
       "<Figure size 1152x648 with 1 Axes>"
      ]
     },
     "metadata": {},
     "output_type": "display_data"
    }
   ],
   "source": [
    "col = 'FAMI_TIENEINTERNET'\n",
    "\n",
    "# icfes[col].describe(include='all')\n",
    "\n",
    "# icfes[col].value_counts(dropna=False).sort_index()\n",
    "\n",
    "plt.figure(figsize=(16, 9))\n",
    "\n",
    "#icfes[col].value_counts(dropna=False).plot.bar()\n",
    "\n",
    "null = icfes.isnull().sum() /icfes.shape[0]\n",
    "null = null.sort_values(ascending=False)\n",
    "plt.plot(null.iloc[:10])\n",
    "plt.xticks(rotation=45)\n",
    "plt.show()"
   ]
  },
  {
   "cell_type": "code",
   "execution_count": 41,
   "metadata": {},
   "outputs": [],
   "source": [
    "icfes.to_csv(\"./data/icfes_preprocessing.csv\", index=False, encoding=\"utf-8\")"
   ]
  },
  {
   "cell_type": "code",
   "execution_count": null,
   "metadata": {},
   "outputs": [],
   "source": []
  }
 ],
 "metadata": {
  "kernelspec": {
   "display_name": "Python [default]",
   "language": "python",
   "name": "python3"
  },
  "language_info": {
   "codemirror_mode": {
    "name": "ipython",
    "version": 3
   },
   "file_extension": ".py",
   "mimetype": "text/x-python",
   "name": "python",
   "nbconvert_exporter": "python",
   "pygments_lexer": "ipython3",
   "version": "3.6.4"
  }
 },
 "nbformat": 4,
 "nbformat_minor": 2
}
